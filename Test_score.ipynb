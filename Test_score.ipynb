{
  "nbformat": 4,
  "nbformat_minor": 0,
  "metadata": {
    "colab": {
      "provenance": [],
      "authorship_tag": "ABX9TyMKr7DbZGiTqdo2UbWHVWdq",
      "include_colab_link": true
    },
    "kernelspec": {
      "name": "python3",
      "display_name": "Python 3"
    },
    "language_info": {
      "name": "python"
    }
  },
  "cells": [
    {
      "cell_type": "markdown",
      "metadata": {
        "id": "view-in-github",
        "colab_type": "text"
      },
      "source": [
        "<a href=\"https://colab.research.google.com/github/Giovasantoru/Credit-Score-Project/blob/main/Test_score.ipynb\" target=\"_parent\"><img src=\"https://colab.research.google.com/assets/colab-badge.svg\" alt=\"Open In Colab\"/></a>"
      ]
    },
    {
      "cell_type": "code",
      "source": [
        "import numpy as np\n",
        "import pandas as pd\n",
        "import seaborn as sns\n",
        "import matplotlib.pyplot as plt"
      ],
      "metadata": {
        "id": "P_6H8LH-ZifL"
      },
      "execution_count": null,
      "outputs": []
    },
    {
      "cell_type": "code",
      "source": [
        "df = pd.read_csv(\"/content/test.csv\")"
      ],
      "metadata": {
        "id": "Rlv4ZtnPZ0Hr"
      },
      "execution_count": null,
      "outputs": []
    },
    {
      "cell_type": "code",
      "source": [
        "from google.colab import drive\n",
        "drive.mount('/content/drive')"
      ],
      "metadata": {
        "colab": {
          "base_uri": "https://localhost:8080/"
        },
        "id": "x9Y7BGG4xR81",
        "outputId": "b10f654a-d359-49c6-e002-227b6c73655f"
      },
      "execution_count": null,
      "outputs": [
        {
          "output_type": "stream",
          "name": "stdout",
          "text": [
            "Drive already mounted at /content/drive; to attempt to forcibly remount, call drive.mount(\"/content/drive\", force_remount=True).\n"
          ]
        }
      ]
    },
    {
      "cell_type": "code",
      "source": [
        "type(df)"
      ],
      "metadata": {
        "colab": {
          "base_uri": "https://localhost:8080/",
          "height": 205
        },
        "id": "IPdEHgT_c2BE",
        "outputId": "34a54584-4073-49f1-c93f-9d79af3b0698"
      },
      "execution_count": null,
      "outputs": [
        {
          "output_type": "execute_result",
          "data": {
            "text/plain": [
              "pandas.core.frame.DataFrame"
            ],
            "text/html": [
              "<div style=\"max-width:800px; border: 1px solid var(--colab-border-color);\"><style>\n",
              "      pre.function-repr-contents {\n",
              "        overflow-x: auto;\n",
              "        padding: 8px 12px;\n",
              "        max-height: 500px;\n",
              "      }\n",
              "\n",
              "      pre.function-repr-contents.function-repr-contents-collapsed {\n",
              "        cursor: pointer;\n",
              "        max-height: 100px;\n",
              "      }\n",
              "    </style>\n",
              "    <pre style=\"white-space: initial; background:\n",
              "         var(--colab-secondary-surface-color); padding: 8px 12px;\n",
              "         border-bottom: 1px solid var(--colab-border-color);\"><b>pandas.core.frame.DataFrame</b><br/>def __init__(data=None, index: Axes | None=None, columns: Axes | None=None, dtype: Dtype | None=None, copy: bool | None=None) -&gt; None</pre><pre class=\"function-repr-contents function-repr-contents-collapsed\" style=\"\"><a class=\"filepath\" style=\"display:none\" href=\"#\">/usr/local/lib/python3.10/dist-packages/pandas/core/frame.py</a>Two-dimensional, size-mutable, potentially heterogeneous tabular data.\n",
              "\n",
              "Data structure also contains labeled axes (rows and columns).\n",
              "Arithmetic operations align on both row and column labels. Can be\n",
              "thought of as a dict-like container for Series objects. The primary\n",
              "pandas data structure.\n",
              "\n",
              "Parameters\n",
              "----------\n",
              "data : ndarray (structured or homogeneous), Iterable, dict, or DataFrame\n",
              "    Dict can contain Series, arrays, constants, dataclass or list-like objects. If\n",
              "    data is a dict, column order follows insertion-order. If a dict contains Series\n",
              "    which have an index defined, it is aligned by its index. This alignment also\n",
              "    occurs if data is a Series or a DataFrame itself. Alignment is done on\n",
              "    Series/DataFrame inputs.\n",
              "\n",
              "    If data is a list of dicts, column order follows insertion-order.\n",
              "\n",
              "index : Index or array-like\n",
              "    Index to use for resulting frame. Will default to RangeIndex if\n",
              "    no indexing information part of input data and no index provided.\n",
              "columns : Index or array-like\n",
              "    Column labels to use for resulting frame when data does not have them,\n",
              "    defaulting to RangeIndex(0, 1, 2, ..., n). If data contains column labels,\n",
              "    will perform column selection instead.\n",
              "dtype : dtype, default None\n",
              "    Data type to force. Only a single dtype is allowed. If None, infer.\n",
              "copy : bool or None, default None\n",
              "    Copy data from inputs.\n",
              "    For dict data, the default of None behaves like ``copy=True``.  For DataFrame\n",
              "    or 2d ndarray input, the default of None behaves like ``copy=False``.\n",
              "    If data is a dict containing one or more Series (possibly of different dtypes),\n",
              "    ``copy=False`` will ensure that these inputs are not copied.\n",
              "\n",
              "    .. versionchanged:: 1.3.0\n",
              "\n",
              "See Also\n",
              "--------\n",
              "DataFrame.from_records : Constructor from tuples, also record arrays.\n",
              "DataFrame.from_dict : From dicts of Series, arrays, or dicts.\n",
              "read_csv : Read a comma-separated values (csv) file into DataFrame.\n",
              "read_table : Read general delimited file into DataFrame.\n",
              "read_clipboard : Read text from clipboard into DataFrame.\n",
              "\n",
              "Notes\n",
              "-----\n",
              "Please reference the :ref:`User Guide &lt;basics.dataframe&gt;` for more information.\n",
              "\n",
              "Examples\n",
              "--------\n",
              "Constructing DataFrame from a dictionary.\n",
              "\n",
              "&gt;&gt;&gt; d = {&#x27;col1&#x27;: [1, 2], &#x27;col2&#x27;: [3, 4]}\n",
              "&gt;&gt;&gt; df = pd.DataFrame(data=d)\n",
              "&gt;&gt;&gt; df\n",
              "   col1  col2\n",
              "0     1     3\n",
              "1     2     4\n",
              "\n",
              "Notice that the inferred dtype is int64.\n",
              "\n",
              "&gt;&gt;&gt; df.dtypes\n",
              "col1    int64\n",
              "col2    int64\n",
              "dtype: object\n",
              "\n",
              "To enforce a single dtype:\n",
              "\n",
              "&gt;&gt;&gt; df = pd.DataFrame(data=d, dtype=np.int8)\n",
              "&gt;&gt;&gt; df.dtypes\n",
              "col1    int8\n",
              "col2    int8\n",
              "dtype: object\n",
              "\n",
              "Constructing DataFrame from a dictionary including Series:\n",
              "\n",
              "&gt;&gt;&gt; d = {&#x27;col1&#x27;: [0, 1, 2, 3], &#x27;col2&#x27;: pd.Series([2, 3], index=[2, 3])}\n",
              "&gt;&gt;&gt; pd.DataFrame(data=d, index=[0, 1, 2, 3])\n",
              "   col1  col2\n",
              "0     0   NaN\n",
              "1     1   NaN\n",
              "2     2   2.0\n",
              "3     3   3.0\n",
              "\n",
              "Constructing DataFrame from numpy ndarray:\n",
              "\n",
              "&gt;&gt;&gt; df2 = pd.DataFrame(np.array([[1, 2, 3], [4, 5, 6], [7, 8, 9]]),\n",
              "...                    columns=[&#x27;a&#x27;, &#x27;b&#x27;, &#x27;c&#x27;])\n",
              "&gt;&gt;&gt; df2\n",
              "   a  b  c\n",
              "0  1  2  3\n",
              "1  4  5  6\n",
              "2  7  8  9\n",
              "\n",
              "Constructing DataFrame from a numpy ndarray that has labeled columns:\n",
              "\n",
              "&gt;&gt;&gt; data = np.array([(1, 2, 3), (4, 5, 6), (7, 8, 9)],\n",
              "...                 dtype=[(&quot;a&quot;, &quot;i4&quot;), (&quot;b&quot;, &quot;i4&quot;), (&quot;c&quot;, &quot;i4&quot;)])\n",
              "&gt;&gt;&gt; df3 = pd.DataFrame(data, columns=[&#x27;c&#x27;, &#x27;a&#x27;])\n",
              "...\n",
              "&gt;&gt;&gt; df3\n",
              "   c  a\n",
              "0  3  1\n",
              "1  6  4\n",
              "2  9  7\n",
              "\n",
              "Constructing DataFrame from dataclass:\n",
              "\n",
              "&gt;&gt;&gt; from dataclasses import make_dataclass\n",
              "&gt;&gt;&gt; Point = make_dataclass(&quot;Point&quot;, [(&quot;x&quot;, int), (&quot;y&quot;, int)])\n",
              "&gt;&gt;&gt; pd.DataFrame([Point(0, 0), Point(0, 3), Point(2, 3)])\n",
              "   x  y\n",
              "0  0  0\n",
              "1  0  3\n",
              "2  2  3\n",
              "\n",
              "Constructing DataFrame from Series/DataFrame:\n",
              "\n",
              "&gt;&gt;&gt; ser = pd.Series([1, 2, 3], index=[&quot;a&quot;, &quot;b&quot;, &quot;c&quot;])\n",
              "&gt;&gt;&gt; df = pd.DataFrame(data=ser, index=[&quot;a&quot;, &quot;c&quot;])\n",
              "&gt;&gt;&gt; df\n",
              "   0\n",
              "a  1\n",
              "c  3\n",
              "\n",
              "&gt;&gt;&gt; df1 = pd.DataFrame([1, 2, 3], index=[&quot;a&quot;, &quot;b&quot;, &quot;c&quot;], columns=[&quot;x&quot;])\n",
              "&gt;&gt;&gt; df2 = pd.DataFrame(data=df1, index=[&quot;a&quot;, &quot;c&quot;])\n",
              "&gt;&gt;&gt; df2\n",
              "   x\n",
              "a  1\n",
              "c  3</pre>\n",
              "      <script>\n",
              "      if (google.colab.kernel.accessAllowed && google.colab.files && google.colab.files.view) {\n",
              "        for (const element of document.querySelectorAll('.filepath')) {\n",
              "          element.style.display = 'block'\n",
              "          element.onclick = (event) => {\n",
              "            event.preventDefault();\n",
              "            event.stopPropagation();\n",
              "            google.colab.files.view(element.textContent, 491);\n",
              "          };\n",
              "        }\n",
              "      }\n",
              "      for (const element of document.querySelectorAll('.function-repr-contents')) {\n",
              "        element.onclick = (event) => {\n",
              "          event.preventDefault();\n",
              "          event.stopPropagation();\n",
              "          element.classList.toggle('function-repr-contents-collapsed');\n",
              "        };\n",
              "      }\n",
              "      </script>\n",
              "      </div>"
            ]
          },
          "metadata": {},
          "execution_count": 4
        }
      ]
    },
    {
      "cell_type": "code",
      "source": [
        "df.info()"
      ],
      "metadata": {
        "colab": {
          "base_uri": "https://localhost:8080/"
        },
        "id": "JawzIoRxjL-I",
        "outputId": "f4dfcadc-0fd2-4eaa-b76b-9887af7c2027"
      },
      "execution_count": null,
      "outputs": [
        {
          "output_type": "stream",
          "name": "stdout",
          "text": [
            "<class 'pandas.core.frame.DataFrame'>\n",
            "RangeIndex: 50000 entries, 0 to 49999\n",
            "Data columns (total 27 columns):\n",
            " #   Column                    Non-Null Count  Dtype  \n",
            "---  ------                    --------------  -----  \n",
            " 0   ID                        50000 non-null  object \n",
            " 1   Customer_ID               50000 non-null  object \n",
            " 2   Month                     50000 non-null  object \n",
            " 3   Name                      44985 non-null  object \n",
            " 4   Age                       50000 non-null  object \n",
            " 5   SSN                       50000 non-null  object \n",
            " 6   Occupation                50000 non-null  object \n",
            " 7   Annual_Income             50000 non-null  object \n",
            " 8   Monthly_Inhand_Salary     42502 non-null  float64\n",
            " 9   Num_Bank_Accounts         50000 non-null  int64  \n",
            " 10  Num_Credit_Card           50000 non-null  int64  \n",
            " 11  Interest_Rate             50000 non-null  int64  \n",
            " 12  Num_of_Loan               50000 non-null  object \n",
            " 13  Type_of_Loan              44296 non-null  object \n",
            " 14  Delay_from_due_date       50000 non-null  int64  \n",
            " 15  Num_of_Delayed_Payment    46502 non-null  object \n",
            " 16  Changed_Credit_Limit      50000 non-null  object \n",
            " 17  Num_Credit_Inquiries      48965 non-null  float64\n",
            " 18  Credit_Mix                50000 non-null  object \n",
            " 19  Outstanding_Debt          50000 non-null  object \n",
            " 20  Credit_Utilization_Ratio  50000 non-null  float64\n",
            " 21  Credit_History_Age        45530 non-null  object \n",
            " 22  Payment_of_Min_Amount     50000 non-null  object \n",
            " 23  Total_EMI_per_month       50000 non-null  float64\n",
            " 24  Amount_invested_monthly   47729 non-null  object \n",
            " 25  Payment_Behaviour         50000 non-null  object \n",
            " 26  Monthly_Balance           49438 non-null  object \n",
            "dtypes: float64(4), int64(4), object(19)\n",
            "memory usage: 10.3+ MB\n"
          ]
        }
      ]
    },
    {
      "cell_type": "markdown",
      "source": [
        "negative number for Num_Bank_account is not possible. The same could be said for Delay_from_due_date."
      ],
      "metadata": {
        "id": "grCtvaS3lR22"
      }
    },
    {
      "cell_type": "code",
      "source": [
        "df.columns"
      ],
      "metadata": {
        "colab": {
          "base_uri": "https://localhost:8080/"
        },
        "id": "kr6Rh4qOoFPf",
        "outputId": "b67b0b3a-4328-4682-eb38-3b29adadd415"
      },
      "execution_count": null,
      "outputs": [
        {
          "output_type": "execute_result",
          "data": {
            "text/plain": [
              "Index(['ID', 'Customer_ID', 'Month', 'Name', 'Age', 'SSN', 'Occupation',\n",
              "       'Annual_Income', 'Monthly_Inhand_Salary', 'Num_Bank_Accounts',\n",
              "       'Num_Credit_Card', 'Interest_Rate', 'Num_of_Loan', 'Type_of_Loan',\n",
              "       'Delay_from_due_date', 'Num_of_Delayed_Payment', 'Changed_Credit_Limit',\n",
              "       'Num_Credit_Inquiries', 'Credit_Mix', 'Outstanding_Debt',\n",
              "       'Credit_Utilization_Ratio', 'Credit_History_Age',\n",
              "       'Payment_of_Min_Amount', 'Total_EMI_per_month',\n",
              "       'Amount_invested_monthly', 'Payment_Behaviour', 'Monthly_Balance'],\n",
              "      dtype='object')"
            ]
          },
          "metadata": {},
          "execution_count": 6
        }
      ]
    },
    {
      "cell_type": "code",
      "source": [
        "# dropping unnecessary columns\n",
        "df = df.drop(['ID','Name', 'Month','SSN', 'Amount_invested_monthly','Type_of_Loan'], axis = 1)"
      ],
      "metadata": {
        "id": "RuRKCBeylh7h"
      },
      "execution_count": null,
      "outputs": []
    },
    {
      "cell_type": "code",
      "source": [
        "df.shape"
      ],
      "metadata": {
        "colab": {
          "base_uri": "https://localhost:8080/"
        },
        "id": "Vkew6_pSm8oG",
        "outputId": "ac74de3e-a97b-485a-b492-a4839d65b1c8"
      },
      "execution_count": null,
      "outputs": [
        {
          "output_type": "execute_result",
          "data": {
            "text/plain": [
              "(50000, 21)"
            ]
          },
          "metadata": {},
          "execution_count": 8
        }
      ]
    },
    {
      "cell_type": "markdown",
      "source": [
        "We can see that the oldest client has 39 years old, and that the longest history age in 20 years and 1 month long. There is also a client with 19 delayed payment.\n",
        "Age has 922 unique values, that indicates some anomalies in the data."
      ],
      "metadata": {
        "id": "vHAfmK9G5He3"
      }
    },
    {
      "cell_type": "markdown",
      "source": [
        "The variable Payment of Min amounth indicates if a person has met the minimum payment amounth. **NM: for those entries, the information about whether the minimum amount was paid is missing or not specified.**\n"
      ],
      "metadata": {
        "id": "fxARKDoO7XhQ"
      }
    },
    {
      "cell_type": "markdown",
      "source": [
        "# **Data Cleaning**\n",
        "\n",
        "\n",
        "\n",
        "1.   Check for duplicates and remove them if necessary.\n",
        "\n",
        "2.   Verify the data types of each column and convert them if needed.\n",
        "    \n",
        "3.   Check for missing values and handle them appropriately.   \n",
        "\n",
        "\n",
        "\n"
      ],
      "metadata": {
        "id": "pn53sjpPp6Og"
      }
    },
    {
      "cell_type": "code",
      "source": [
        "df.duplicated().sum() #counting duplicates"
      ],
      "metadata": {
        "colab": {
          "base_uri": "https://localhost:8080/"
        },
        "id": "8YAC_4G6U_6H",
        "outputId": "095ee7e1-1b8d-407e-fb72-ef968447a3c5"
      },
      "execution_count": null,
      "outputs": [
        {
          "output_type": "execute_result",
          "data": {
            "text/plain": [
              "0"
            ]
          },
          "metadata": {},
          "execution_count": 9
        }
      ]
    },
    {
      "cell_type": "markdown",
      "source": [
        "There are no duplicates in the dataframe\n"
      ],
      "metadata": {
        "id": "dCQIo-Nq1QZK"
      }
    },
    {
      "cell_type": "markdown",
      "source": [
        "Now let's check for missing values"
      ],
      "metadata": {
        "id": "JgTMM5oS8vmN"
      }
    },
    {
      "cell_type": "code",
      "source": [
        "df.info()\n",
        "print(df.shape)"
      ],
      "metadata": {
        "id": "hzEckuxx1aZB",
        "colab": {
          "base_uri": "https://localhost:8080/"
        },
        "outputId": "89505da7-75ba-45a8-d971-5c5308c6e5e1"
      },
      "execution_count": null,
      "outputs": [
        {
          "output_type": "stream",
          "name": "stdout",
          "text": [
            "<class 'pandas.core.frame.DataFrame'>\n",
            "RangeIndex: 50000 entries, 0 to 49999\n",
            "Data columns (total 21 columns):\n",
            " #   Column                    Non-Null Count  Dtype  \n",
            "---  ------                    --------------  -----  \n",
            " 0   Customer_ID               50000 non-null  object \n",
            " 1   Age                       50000 non-null  object \n",
            " 2   Occupation                50000 non-null  object \n",
            " 3   Annual_Income             50000 non-null  object \n",
            " 4   Monthly_Inhand_Salary     42502 non-null  float64\n",
            " 5   Num_Bank_Accounts         50000 non-null  int64  \n",
            " 6   Num_Credit_Card           50000 non-null  int64  \n",
            " 7   Interest_Rate             50000 non-null  int64  \n",
            " 8   Num_of_Loan               50000 non-null  object \n",
            " 9   Delay_from_due_date       50000 non-null  int64  \n",
            " 10  Num_of_Delayed_Payment    46502 non-null  object \n",
            " 11  Changed_Credit_Limit      50000 non-null  object \n",
            " 12  Num_Credit_Inquiries      48965 non-null  float64\n",
            " 13  Credit_Mix                50000 non-null  object \n",
            " 14  Outstanding_Debt          50000 non-null  object \n",
            " 15  Credit_Utilization_Ratio  50000 non-null  float64\n",
            " 16  Credit_History_Age        45530 non-null  object \n",
            " 17  Payment_of_Min_Amount     50000 non-null  object \n",
            " 18  Total_EMI_per_month       50000 non-null  float64\n",
            " 19  Payment_Behaviour         50000 non-null  object \n",
            " 20  Monthly_Balance           49438 non-null  object \n",
            "dtypes: float64(4), int64(4), object(13)\n",
            "memory usage: 8.0+ MB\n",
            "(50000, 21)\n"
          ]
        }
      ]
    },
    {
      "cell_type": "markdown",
      "source": [
        "It appears there are some missing values through the Non-null count. In particoular we have 50000 entries, but Credit_History_Age has only 45530 non-null values, also number of credit inquiries and number of delayed payment have some missing values.\n",
        "In respect of the data types, we can notice that age, annual income, number of loans, number of delayed payments, outstanding debts, credit history age and monthly balance are classified as objects (strings), thus we need to change to the correct data type lately.\n",
        "\n"
      ],
      "metadata": {
        "id": "ncHAZkB-32vm"
      }
    },
    {
      "cell_type": "markdown",
      "source": [
        "We also noticed that some missing values are written as '_', so we need to transform them into actual NaN values in order to use Python functions related to missing values, such as isna(), fillna(), dropna(), and others for effective data cleaning and analysis."
      ],
      "metadata": {
        "id": "PECqdI4psWma"
      }
    },
    {
      "cell_type": "code",
      "source": [
        "df = df.replace(\"_\", \"\", regex=True) #replacing _ with empty string"
      ],
      "metadata": {
        "id": "x6JT1Cb2dten"
      },
      "execution_count": null,
      "outputs": []
    },
    {
      "cell_type": "code",
      "source": [
        "df[df.eq('').any(axis=1)] #checking for empty strings"
      ],
      "metadata": {
        "colab": {
          "base_uri": "https://localhost:8080/",
          "height": 583
        },
        "id": "co8LN0qcYDjf",
        "outputId": "6d404928-c77a-4893-ecd1-5383264f0403"
      },
      "execution_count": null,
      "outputs": [
        {
          "output_type": "execute_result",
          "data": {
            "text/plain": [
              "      Customer_ID   Age    Occupation Annual_Income  Monthly_Inhand_Salary  \\\n",
              "4       CUS0x21b1    28                    34847.84            3037.986667   \n",
              "6       CUS0x21b1    28       Teacher      34847.84            3037.986667   \n",
              "7       CUS0x21b1    28       Teacher      34847.84            3037.986667   \n",
              "13      CUS0xb891    55  Entrepreneur      30689.89            2612.490833   \n",
              "16      CUS0x1cdb    22     Developer      35547.71            2853.309167   \n",
              "...           ...   ...           ...           ...                    ...   \n",
              "49987    CUS0xf16    45  MediaManager      16680.35                    NaN   \n",
              "49991   CUS0xaf61    50        Writer       37188.1            3097.008333   \n",
              "49994   CUS0x8600    29                    20002.88            1929.906667   \n",
              "49995   CUS0x8600  4975     Architect      20002.88            1929.906667   \n",
              "49999   CUS0x942c    25      Mechanic      39628.99            3359.415833   \n",
              "\n",
              "       Num_Bank_Accounts  Num_Credit_Card  Interest_Rate Num_of_Loan  \\\n",
              "4                      2                4              6           1   \n",
              "6                      2                4              6           1   \n",
              "7                      2                4              6           1   \n",
              "13                     2                5              4        -100   \n",
              "16                     7                5              5           0   \n",
              "...                  ...              ...            ...         ...   \n",
              "49987                  1                1              5           4   \n",
              "49991                  1                4              5           3   \n",
              "49994                 10                8             29           5   \n",
              "49995                 10                8             29           5   \n",
              "49999                  4                6              7           2   \n",
              "\n",
              "       Delay_from_due_date  ... Changed_Credit_Limit Num_Credit_Inquiries  \\\n",
              "4                        3  ...                 5.42                  5.0   \n",
              "6                        3  ...                 5.42                  5.0   \n",
              "7                        3  ...                 7.42                  5.0   \n",
              "13                       5  ...                 1.99                  4.0   \n",
              "16                       5  ...                 2.58                  4.0   \n",
              "...                    ...  ...                  ...                  ...   \n",
              "49987                    1  ...                 3.69                  8.0   \n",
              "49991                    3  ...                 5.38                  3.0   \n",
              "49994                   33  ...                18.31                 12.0   \n",
              "49995                   33  ...                18.31                 12.0   \n",
              "49999                   22  ...                 11.5                  7.0   \n",
              "\n",
              "       Credit_Mix Outstanding_Debt Credit_Utilization_Ratio  \\\n",
              "4            Good           605.03                25.926822   \n",
              "6                           605.03                30.996424   \n",
              "7                           605.03                33.875167   \n",
              "13                          632.46                36.280475   \n",
              "16                          943.86                34.729842   \n",
              "...           ...              ...                      ...   \n",
              "49987                       897.16                25.793227   \n",
              "49991                       620.64                36.498383   \n",
              "49994         Bad           3571.7                27.027812   \n",
              "49995                       3571.7                34.780553   \n",
              "49999                       502.38                34.108530   \n",
              "\n",
              "          Credit_History_Age Payment_of_Min_Amount Total_EMI_per_month  \\\n",
              "4      27 Years and 3 Months                    No           18.816215   \n",
              "6      27 Years and 5 Months                    No           18.816215   \n",
              "7      27 Years and 6 Months                    No           18.816215   \n",
              "13     18 Years and 0 Months                    No           16.415452   \n",
              "16     31 Years and 4 Months                   Yes            0.000000   \n",
              "...                      ...                   ...                 ...   \n",
              "49987  22 Years and 0 Months                    NM           41.113561   \n",
              "49991  30 Years and 8 Months                    No        33013.000000   \n",
              "49994   6 Years and 6 Months                   Yes           60.964772   \n",
              "49995                    NaN                   Yes           60.964772   \n",
              "49999  32 Years and 2 Months                    No           35.104023   \n",
              "\n",
              "                  Payment_Behaviour     Monthly_Balance  \n",
              "4       HighspentLargevaluepayments   485.2984336755923  \n",
              "6       HighspentLargevaluepayments  452.30230675990265  \n",
              "7                            !@9#%8  421.44796447960783  \n",
              "13      HighspentLargevaluepayments    455.440320244524  \n",
              "16     HighspentMediumvaluepayments  475.96485902210367  \n",
              "...                             ...                 ...  \n",
              "49987    LowspentLargevaluepayments  340.79630413992334  \n",
              "49991    LowspentLargevaluepayments    257.095501010799  \n",
              "49994   HighspentSmallvaluepayments    341.179047488264  \n",
              "49995    LowspentSmallvaluepayments  275.53956951573343  \n",
              "49999   LowspentMediumvaluepayments  360.37968260123847  \n",
              "\n",
              "[13406 rows x 21 columns]"
            ],
            "text/html": [
              "\n",
              "  <div id=\"df-a63ad00d-31cb-48e7-944f-0b35ad1bf493\" class=\"colab-df-container\">\n",
              "    <div>\n",
              "<style scoped>\n",
              "    .dataframe tbody tr th:only-of-type {\n",
              "        vertical-align: middle;\n",
              "    }\n",
              "\n",
              "    .dataframe tbody tr th {\n",
              "        vertical-align: top;\n",
              "    }\n",
              "\n",
              "    .dataframe thead th {\n",
              "        text-align: right;\n",
              "    }\n",
              "</style>\n",
              "<table border=\"1\" class=\"dataframe\">\n",
              "  <thead>\n",
              "    <tr style=\"text-align: right;\">\n",
              "      <th></th>\n",
              "      <th>Customer_ID</th>\n",
              "      <th>Age</th>\n",
              "      <th>Occupation</th>\n",
              "      <th>Annual_Income</th>\n",
              "      <th>Monthly_Inhand_Salary</th>\n",
              "      <th>Num_Bank_Accounts</th>\n",
              "      <th>Num_Credit_Card</th>\n",
              "      <th>Interest_Rate</th>\n",
              "      <th>Num_of_Loan</th>\n",
              "      <th>Delay_from_due_date</th>\n",
              "      <th>...</th>\n",
              "      <th>Changed_Credit_Limit</th>\n",
              "      <th>Num_Credit_Inquiries</th>\n",
              "      <th>Credit_Mix</th>\n",
              "      <th>Outstanding_Debt</th>\n",
              "      <th>Credit_Utilization_Ratio</th>\n",
              "      <th>Credit_History_Age</th>\n",
              "      <th>Payment_of_Min_Amount</th>\n",
              "      <th>Total_EMI_per_month</th>\n",
              "      <th>Payment_Behaviour</th>\n",
              "      <th>Monthly_Balance</th>\n",
              "    </tr>\n",
              "  </thead>\n",
              "  <tbody>\n",
              "    <tr>\n",
              "      <th>4</th>\n",
              "      <td>CUS0x21b1</td>\n",
              "      <td>28</td>\n",
              "      <td></td>\n",
              "      <td>34847.84</td>\n",
              "      <td>3037.986667</td>\n",
              "      <td>2</td>\n",
              "      <td>4</td>\n",
              "      <td>6</td>\n",
              "      <td>1</td>\n",
              "      <td>3</td>\n",
              "      <td>...</td>\n",
              "      <td>5.42</td>\n",
              "      <td>5.0</td>\n",
              "      <td>Good</td>\n",
              "      <td>605.03</td>\n",
              "      <td>25.926822</td>\n",
              "      <td>27 Years and 3 Months</td>\n",
              "      <td>No</td>\n",
              "      <td>18.816215</td>\n",
              "      <td>HighspentLargevaluepayments</td>\n",
              "      <td>485.2984336755923</td>\n",
              "    </tr>\n",
              "    <tr>\n",
              "      <th>6</th>\n",
              "      <td>CUS0x21b1</td>\n",
              "      <td>28</td>\n",
              "      <td>Teacher</td>\n",
              "      <td>34847.84</td>\n",
              "      <td>3037.986667</td>\n",
              "      <td>2</td>\n",
              "      <td>4</td>\n",
              "      <td>6</td>\n",
              "      <td>1</td>\n",
              "      <td>3</td>\n",
              "      <td>...</td>\n",
              "      <td>5.42</td>\n",
              "      <td>5.0</td>\n",
              "      <td></td>\n",
              "      <td>605.03</td>\n",
              "      <td>30.996424</td>\n",
              "      <td>27 Years and 5 Months</td>\n",
              "      <td>No</td>\n",
              "      <td>18.816215</td>\n",
              "      <td>HighspentLargevaluepayments</td>\n",
              "      <td>452.30230675990265</td>\n",
              "    </tr>\n",
              "    <tr>\n",
              "      <th>7</th>\n",
              "      <td>CUS0x21b1</td>\n",
              "      <td>28</td>\n",
              "      <td>Teacher</td>\n",
              "      <td>34847.84</td>\n",
              "      <td>3037.986667</td>\n",
              "      <td>2</td>\n",
              "      <td>4</td>\n",
              "      <td>6</td>\n",
              "      <td>1</td>\n",
              "      <td>3</td>\n",
              "      <td>...</td>\n",
              "      <td>7.42</td>\n",
              "      <td>5.0</td>\n",
              "      <td></td>\n",
              "      <td>605.03</td>\n",
              "      <td>33.875167</td>\n",
              "      <td>27 Years and 6 Months</td>\n",
              "      <td>No</td>\n",
              "      <td>18.816215</td>\n",
              "      <td>!@9#%8</td>\n",
              "      <td>421.44796447960783</td>\n",
              "    </tr>\n",
              "    <tr>\n",
              "      <th>13</th>\n",
              "      <td>CUS0xb891</td>\n",
              "      <td>55</td>\n",
              "      <td>Entrepreneur</td>\n",
              "      <td>30689.89</td>\n",
              "      <td>2612.490833</td>\n",
              "      <td>2</td>\n",
              "      <td>5</td>\n",
              "      <td>4</td>\n",
              "      <td>-100</td>\n",
              "      <td>5</td>\n",
              "      <td>...</td>\n",
              "      <td>1.99</td>\n",
              "      <td>4.0</td>\n",
              "      <td></td>\n",
              "      <td>632.46</td>\n",
              "      <td>36.280475</td>\n",
              "      <td>18 Years and 0 Months</td>\n",
              "      <td>No</td>\n",
              "      <td>16.415452</td>\n",
              "      <td>HighspentLargevaluepayments</td>\n",
              "      <td>455.440320244524</td>\n",
              "    </tr>\n",
              "    <tr>\n",
              "      <th>16</th>\n",
              "      <td>CUS0x1cdb</td>\n",
              "      <td>22</td>\n",
              "      <td>Developer</td>\n",
              "      <td>35547.71</td>\n",
              "      <td>2853.309167</td>\n",
              "      <td>7</td>\n",
              "      <td>5</td>\n",
              "      <td>5</td>\n",
              "      <td>0</td>\n",
              "      <td>5</td>\n",
              "      <td>...</td>\n",
              "      <td>2.58</td>\n",
              "      <td>4.0</td>\n",
              "      <td></td>\n",
              "      <td>943.86</td>\n",
              "      <td>34.729842</td>\n",
              "      <td>31 Years and 4 Months</td>\n",
              "      <td>Yes</td>\n",
              "      <td>0.000000</td>\n",
              "      <td>HighspentMediumvaluepayments</td>\n",
              "      <td>475.96485902210367</td>\n",
              "    </tr>\n",
              "    <tr>\n",
              "      <th>...</th>\n",
              "      <td>...</td>\n",
              "      <td>...</td>\n",
              "      <td>...</td>\n",
              "      <td>...</td>\n",
              "      <td>...</td>\n",
              "      <td>...</td>\n",
              "      <td>...</td>\n",
              "      <td>...</td>\n",
              "      <td>...</td>\n",
              "      <td>...</td>\n",
              "      <td>...</td>\n",
              "      <td>...</td>\n",
              "      <td>...</td>\n",
              "      <td>...</td>\n",
              "      <td>...</td>\n",
              "      <td>...</td>\n",
              "      <td>...</td>\n",
              "      <td>...</td>\n",
              "      <td>...</td>\n",
              "      <td>...</td>\n",
              "      <td>...</td>\n",
              "    </tr>\n",
              "    <tr>\n",
              "      <th>49987</th>\n",
              "      <td>CUS0xf16</td>\n",
              "      <td>45</td>\n",
              "      <td>MediaManager</td>\n",
              "      <td>16680.35</td>\n",
              "      <td>NaN</td>\n",
              "      <td>1</td>\n",
              "      <td>1</td>\n",
              "      <td>5</td>\n",
              "      <td>4</td>\n",
              "      <td>1</td>\n",
              "      <td>...</td>\n",
              "      <td>3.69</td>\n",
              "      <td>8.0</td>\n",
              "      <td></td>\n",
              "      <td>897.16</td>\n",
              "      <td>25.793227</td>\n",
              "      <td>22 Years and 0 Months</td>\n",
              "      <td>NM</td>\n",
              "      <td>41.113561</td>\n",
              "      <td>LowspentLargevaluepayments</td>\n",
              "      <td>340.79630413992334</td>\n",
              "    </tr>\n",
              "    <tr>\n",
              "      <th>49991</th>\n",
              "      <td>CUS0xaf61</td>\n",
              "      <td>50</td>\n",
              "      <td>Writer</td>\n",
              "      <td>37188.1</td>\n",
              "      <td>3097.008333</td>\n",
              "      <td>1</td>\n",
              "      <td>4</td>\n",
              "      <td>5</td>\n",
              "      <td>3</td>\n",
              "      <td>3</td>\n",
              "      <td>...</td>\n",
              "      <td>5.38</td>\n",
              "      <td>3.0</td>\n",
              "      <td></td>\n",
              "      <td>620.64</td>\n",
              "      <td>36.498383</td>\n",
              "      <td>30 Years and 8 Months</td>\n",
              "      <td>No</td>\n",
              "      <td>33013.000000</td>\n",
              "      <td>LowspentLargevaluepayments</td>\n",
              "      <td>257.095501010799</td>\n",
              "    </tr>\n",
              "    <tr>\n",
              "      <th>49994</th>\n",
              "      <td>CUS0x8600</td>\n",
              "      <td>29</td>\n",
              "      <td></td>\n",
              "      <td>20002.88</td>\n",
              "      <td>1929.906667</td>\n",
              "      <td>10</td>\n",
              "      <td>8</td>\n",
              "      <td>29</td>\n",
              "      <td>5</td>\n",
              "      <td>33</td>\n",
              "      <td>...</td>\n",
              "      <td>18.31</td>\n",
              "      <td>12.0</td>\n",
              "      <td>Bad</td>\n",
              "      <td>3571.7</td>\n",
              "      <td>27.027812</td>\n",
              "      <td>6 Years and 6 Months</td>\n",
              "      <td>Yes</td>\n",
              "      <td>60.964772</td>\n",
              "      <td>HighspentSmallvaluepayments</td>\n",
              "      <td>341.179047488264</td>\n",
              "    </tr>\n",
              "    <tr>\n",
              "      <th>49995</th>\n",
              "      <td>CUS0x8600</td>\n",
              "      <td>4975</td>\n",
              "      <td>Architect</td>\n",
              "      <td>20002.88</td>\n",
              "      <td>1929.906667</td>\n",
              "      <td>10</td>\n",
              "      <td>8</td>\n",
              "      <td>29</td>\n",
              "      <td>5</td>\n",
              "      <td>33</td>\n",
              "      <td>...</td>\n",
              "      <td>18.31</td>\n",
              "      <td>12.0</td>\n",
              "      <td></td>\n",
              "      <td>3571.7</td>\n",
              "      <td>34.780553</td>\n",
              "      <td>NaN</td>\n",
              "      <td>Yes</td>\n",
              "      <td>60.964772</td>\n",
              "      <td>LowspentSmallvaluepayments</td>\n",
              "      <td>275.53956951573343</td>\n",
              "    </tr>\n",
              "    <tr>\n",
              "      <th>49999</th>\n",
              "      <td>CUS0x942c</td>\n",
              "      <td>25</td>\n",
              "      <td>Mechanic</td>\n",
              "      <td>39628.99</td>\n",
              "      <td>3359.415833</td>\n",
              "      <td>4</td>\n",
              "      <td>6</td>\n",
              "      <td>7</td>\n",
              "      <td>2</td>\n",
              "      <td>22</td>\n",
              "      <td>...</td>\n",
              "      <td>11.5</td>\n",
              "      <td>7.0</td>\n",
              "      <td></td>\n",
              "      <td>502.38</td>\n",
              "      <td>34.108530</td>\n",
              "      <td>32 Years and 2 Months</td>\n",
              "      <td>No</td>\n",
              "      <td>35.104023</td>\n",
              "      <td>LowspentMediumvaluepayments</td>\n",
              "      <td>360.37968260123847</td>\n",
              "    </tr>\n",
              "  </tbody>\n",
              "</table>\n",
              "<p>13406 rows × 21 columns</p>\n",
              "</div>\n",
              "    <div class=\"colab-df-buttons\">\n",
              "\n",
              "  <div class=\"colab-df-container\">\n",
              "    <button class=\"colab-df-convert\" onclick=\"convertToInteractive('df-a63ad00d-31cb-48e7-944f-0b35ad1bf493')\"\n",
              "            title=\"Convert this dataframe to an interactive table.\"\n",
              "            style=\"display:none;\">\n",
              "\n",
              "  <svg xmlns=\"http://www.w3.org/2000/svg\" height=\"24px\" viewBox=\"0 -960 960 960\">\n",
              "    <path d=\"M120-120v-720h720v720H120Zm60-500h600v-160H180v160Zm220 220h160v-160H400v160Zm0 220h160v-160H400v160ZM180-400h160v-160H180v160Zm440 0h160v-160H620v160ZM180-180h160v-160H180v160Zm440 0h160v-160H620v160Z\"/>\n",
              "  </svg>\n",
              "    </button>\n",
              "\n",
              "  <style>\n",
              "    .colab-df-container {\n",
              "      display:flex;\n",
              "      gap: 12px;\n",
              "    }\n",
              "\n",
              "    .colab-df-convert {\n",
              "      background-color: #E8F0FE;\n",
              "      border: none;\n",
              "      border-radius: 50%;\n",
              "      cursor: pointer;\n",
              "      display: none;\n",
              "      fill: #1967D2;\n",
              "      height: 32px;\n",
              "      padding: 0 0 0 0;\n",
              "      width: 32px;\n",
              "    }\n",
              "\n",
              "    .colab-df-convert:hover {\n",
              "      background-color: #E2EBFA;\n",
              "      box-shadow: 0px 1px 2px rgba(60, 64, 67, 0.3), 0px 1px 3px 1px rgba(60, 64, 67, 0.15);\n",
              "      fill: #174EA6;\n",
              "    }\n",
              "\n",
              "    .colab-df-buttons div {\n",
              "      margin-bottom: 4px;\n",
              "    }\n",
              "\n",
              "    [theme=dark] .colab-df-convert {\n",
              "      background-color: #3B4455;\n",
              "      fill: #D2E3FC;\n",
              "    }\n",
              "\n",
              "    [theme=dark] .colab-df-convert:hover {\n",
              "      background-color: #434B5C;\n",
              "      box-shadow: 0px 1px 3px 1px rgba(0, 0, 0, 0.15);\n",
              "      filter: drop-shadow(0px 1px 2px rgba(0, 0, 0, 0.3));\n",
              "      fill: #FFFFFF;\n",
              "    }\n",
              "  </style>\n",
              "\n",
              "    <script>\n",
              "      const buttonEl =\n",
              "        document.querySelector('#df-a63ad00d-31cb-48e7-944f-0b35ad1bf493 button.colab-df-convert');\n",
              "      buttonEl.style.display =\n",
              "        google.colab.kernel.accessAllowed ? 'block' : 'none';\n",
              "\n",
              "      async function convertToInteractive(key) {\n",
              "        const element = document.querySelector('#df-a63ad00d-31cb-48e7-944f-0b35ad1bf493');\n",
              "        const dataTable =\n",
              "          await google.colab.kernel.invokeFunction('convertToInteractive',\n",
              "                                                    [key], {});\n",
              "        if (!dataTable) return;\n",
              "\n",
              "        const docLinkHtml = 'Like what you see? Visit the ' +\n",
              "          '<a target=\"_blank\" href=https://colab.research.google.com/notebooks/data_table.ipynb>data table notebook</a>'\n",
              "          + ' to learn more about interactive tables.';\n",
              "        element.innerHTML = '';\n",
              "        dataTable['output_type'] = 'display_data';\n",
              "        await google.colab.output.renderOutput(dataTable, element);\n",
              "        const docLink = document.createElement('div');\n",
              "        docLink.innerHTML = docLinkHtml;\n",
              "        element.appendChild(docLink);\n",
              "      }\n",
              "    </script>\n",
              "  </div>\n",
              "\n",
              "\n",
              "<div id=\"df-bae6b138-749a-49df-bd03-06660f3e9903\">\n",
              "  <button class=\"colab-df-quickchart\" onclick=\"quickchart('df-bae6b138-749a-49df-bd03-06660f3e9903')\"\n",
              "            title=\"Suggest charts\"\n",
              "            style=\"display:none;\">\n",
              "\n",
              "<svg xmlns=\"http://www.w3.org/2000/svg\" height=\"24px\"viewBox=\"0 0 24 24\"\n",
              "     width=\"24px\">\n",
              "    <g>\n",
              "        <path d=\"M19 3H5c-1.1 0-2 .9-2 2v14c0 1.1.9 2 2 2h14c1.1 0 2-.9 2-2V5c0-1.1-.9-2-2-2zM9 17H7v-7h2v7zm4 0h-2V7h2v10zm4 0h-2v-4h2v4z\"/>\n",
              "    </g>\n",
              "</svg>\n",
              "  </button>\n",
              "\n",
              "<style>\n",
              "  .colab-df-quickchart {\n",
              "      --bg-color: #E8F0FE;\n",
              "      --fill-color: #1967D2;\n",
              "      --hover-bg-color: #E2EBFA;\n",
              "      --hover-fill-color: #174EA6;\n",
              "      --disabled-fill-color: #AAA;\n",
              "      --disabled-bg-color: #DDD;\n",
              "  }\n",
              "\n",
              "  [theme=dark] .colab-df-quickchart {\n",
              "      --bg-color: #3B4455;\n",
              "      --fill-color: #D2E3FC;\n",
              "      --hover-bg-color: #434B5C;\n",
              "      --hover-fill-color: #FFFFFF;\n",
              "      --disabled-bg-color: #3B4455;\n",
              "      --disabled-fill-color: #666;\n",
              "  }\n",
              "\n",
              "  .colab-df-quickchart {\n",
              "    background-color: var(--bg-color);\n",
              "    border: none;\n",
              "    border-radius: 50%;\n",
              "    cursor: pointer;\n",
              "    display: none;\n",
              "    fill: var(--fill-color);\n",
              "    height: 32px;\n",
              "    padding: 0;\n",
              "    width: 32px;\n",
              "  }\n",
              "\n",
              "  .colab-df-quickchart:hover {\n",
              "    background-color: var(--hover-bg-color);\n",
              "    box-shadow: 0 1px 2px rgba(60, 64, 67, 0.3), 0 1px 3px 1px rgba(60, 64, 67, 0.15);\n",
              "    fill: var(--button-hover-fill-color);\n",
              "  }\n",
              "\n",
              "  .colab-df-quickchart-complete:disabled,\n",
              "  .colab-df-quickchart-complete:disabled:hover {\n",
              "    background-color: var(--disabled-bg-color);\n",
              "    fill: var(--disabled-fill-color);\n",
              "    box-shadow: none;\n",
              "  }\n",
              "\n",
              "  .colab-df-spinner {\n",
              "    border: 2px solid var(--fill-color);\n",
              "    border-color: transparent;\n",
              "    border-bottom-color: var(--fill-color);\n",
              "    animation:\n",
              "      spin 1s steps(1) infinite;\n",
              "  }\n",
              "\n",
              "  @keyframes spin {\n",
              "    0% {\n",
              "      border-color: transparent;\n",
              "      border-bottom-color: var(--fill-color);\n",
              "      border-left-color: var(--fill-color);\n",
              "    }\n",
              "    20% {\n",
              "      border-color: transparent;\n",
              "      border-left-color: var(--fill-color);\n",
              "      border-top-color: var(--fill-color);\n",
              "    }\n",
              "    30% {\n",
              "      border-color: transparent;\n",
              "      border-left-color: var(--fill-color);\n",
              "      border-top-color: var(--fill-color);\n",
              "      border-right-color: var(--fill-color);\n",
              "    }\n",
              "    40% {\n",
              "      border-color: transparent;\n",
              "      border-right-color: var(--fill-color);\n",
              "      border-top-color: var(--fill-color);\n",
              "    }\n",
              "    60% {\n",
              "      border-color: transparent;\n",
              "      border-right-color: var(--fill-color);\n",
              "    }\n",
              "    80% {\n",
              "      border-color: transparent;\n",
              "      border-right-color: var(--fill-color);\n",
              "      border-bottom-color: var(--fill-color);\n",
              "    }\n",
              "    90% {\n",
              "      border-color: transparent;\n",
              "      border-bottom-color: var(--fill-color);\n",
              "    }\n",
              "  }\n",
              "</style>\n",
              "\n",
              "  <script>\n",
              "    async function quickchart(key) {\n",
              "      const quickchartButtonEl =\n",
              "        document.querySelector('#' + key + ' button');\n",
              "      quickchartButtonEl.disabled = true;  // To prevent multiple clicks.\n",
              "      quickchartButtonEl.classList.add('colab-df-spinner');\n",
              "      try {\n",
              "        const charts = await google.colab.kernel.invokeFunction(\n",
              "            'suggestCharts', [key], {});\n",
              "      } catch (error) {\n",
              "        console.error('Error during call to suggestCharts:', error);\n",
              "      }\n",
              "      quickchartButtonEl.classList.remove('colab-df-spinner');\n",
              "      quickchartButtonEl.classList.add('colab-df-quickchart-complete');\n",
              "    }\n",
              "    (() => {\n",
              "      let quickchartButtonEl =\n",
              "        document.querySelector('#df-bae6b138-749a-49df-bd03-06660f3e9903 button');\n",
              "      quickchartButtonEl.style.display =\n",
              "        google.colab.kernel.accessAllowed ? 'block' : 'none';\n",
              "    })();\n",
              "  </script>\n",
              "</div>\n",
              "\n",
              "    </div>\n",
              "  </div>\n"
            ],
            "application/vnd.google.colaboratory.intrinsic+json": {
              "type": "dataframe"
            }
          },
          "metadata": {},
          "execution_count": 12
        }
      ]
    },
    {
      "cell_type": "code",
      "source": [
        "rows_with_empty_values = df[df.eq('').any(axis=1)]\n",
        "\n",
        "# Fill empty values with np.nan in selected rows\n",
        "df.loc[rows_with_empty_values.index] = df.loc[rows_with_empty_values.index].replace('', np.nan)"
      ],
      "metadata": {
        "id": "Ak4DMueQXgv0"
      },
      "execution_count": null,
      "outputs": []
    },
    {
      "cell_type": "code",
      "source": [
        "# Fill empty values with np.nan for all blank values in the dataframe\n",
        "df.replace('', np.nan, inplace=True)"
      ],
      "metadata": {
        "id": "45KhW8fVYbC-"
      },
      "execution_count": null,
      "outputs": []
    },
    {
      "cell_type": "code",
      "source": [
        "#Check for columns with missing values\n",
        "df.columns[df.isna().any()]"
      ],
      "metadata": {
        "colab": {
          "base_uri": "https://localhost:8080/"
        },
        "id": "mSvLThNd7Uqa",
        "outputId": "d7fc4248-7543-4ead-c26b-ce4d221b965c"
      },
      "execution_count": null,
      "outputs": [
        {
          "output_type": "execute_result",
          "data": {
            "text/plain": [
              "Index(['Occupation', 'Monthly_Inhand_Salary', 'Num_of_Delayed_Payment',\n",
              "       'Changed_Credit_Limit', 'Num_Credit_Inquiries', 'Credit_Mix',\n",
              "       'Credit_History_Age', 'Monthly_Balance'],\n",
              "      dtype='object')"
            ]
          },
          "metadata": {},
          "execution_count": 15
        }
      ]
    },
    {
      "cell_type": "code",
      "source": [
        "# Checking if there are still columns with blank strings\n",
        "blank_count = (df == '').sum().sum()\n",
        "\n",
        "print(blank_count)\n"
      ],
      "metadata": {
        "colab": {
          "base_uri": "https://localhost:8080/"
        },
        "id": "yKTBLQY9VyPC",
        "outputId": "dde0e6b3-8546-4b75-e5cd-e887575a8a6a"
      },
      "execution_count": null,
      "outputs": [
        {
          "output_type": "stream",
          "name": "stdout",
          "text": [
            "0\n"
          ]
        }
      ]
    },
    {
      "cell_type": "markdown",
      "source": [
        "The blank values have been succesfully reolaced"
      ],
      "metadata": {
        "id": "NY1cMKYKb7xD"
      }
    },
    {
      "cell_type": "markdown",
      "source": [
        "As we have blak values for some entries, we check for both NA and blank values:"
      ],
      "metadata": {
        "id": "5xkGTXCjVnBE"
      }
    },
    {
      "cell_type": "markdown",
      "source": [
        "The variables with the highest number of missing values are the credit history age, with 4470 missing values and Credit Mix with 9805.  "
      ],
      "metadata": {
        "id": "e6sCT92BMWHz"
      }
    },
    {
      "cell_type": "code",
      "source": [
        "#dropping negative values for Delay from due date\n",
        "df.drop(df[df['Delay_from_due_date'] < 0].index, inplace=True)\n",
        "print(df.shape)"
      ],
      "metadata": {
        "colab": {
          "base_uri": "https://localhost:8080/"
        },
        "id": "NYAQXMJrl9UL",
        "outputId": "d5cad34c-c18d-47bb-b346-29613e1736e1"
      },
      "execution_count": null,
      "outputs": [
        {
          "output_type": "stream",
          "name": "stdout",
          "text": [
            "(49702, 21)\n"
          ]
        }
      ]
    },
    {
      "cell_type": "code",
      "source": [
        "print(df[df['Num_Bank_Accounts'] < 0]['Num_Bank_Accounts'].count()) #counting negative values for Num_Bank_Accounts\n",
        "df.drop(df[df['Num_Bank_Accounts'] < 0].index, inplace=True)\n",
        "print(df.shape)"
      ],
      "metadata": {
        "colab": {
          "base_uri": "https://localhost:8080/"
        },
        "id": "4oGwLsFVmrsb",
        "outputId": "9d71920c-dd07-4238-c639-e8b8f8e50160"
      },
      "execution_count": null,
      "outputs": [
        {
          "output_type": "stream",
          "name": "stdout",
          "text": [
            "16\n",
            "(49686, 21)\n"
          ]
        }
      ]
    },
    {
      "cell_type": "code",
      "source": [
        "df['Credit_Mix'].describe()"
      ],
      "metadata": {
        "colab": {
          "base_uri": "https://localhost:8080/",
          "height": 210
        },
        "id": "YDEH9inmNEX1",
        "outputId": "2b3ce6b1-2c17-4d07-ad5a-9469bccafbe2"
      },
      "execution_count": null,
      "outputs": [
        {
          "output_type": "execute_result",
          "data": {
            "text/plain": [
              "count        39935\n",
              "unique           3\n",
              "top       Standard\n",
              "freq         18379\n",
              "Name: Credit_Mix, dtype: object"
            ],
            "text/html": [
              "<div>\n",
              "<style scoped>\n",
              "    .dataframe tbody tr th:only-of-type {\n",
              "        vertical-align: middle;\n",
              "    }\n",
              "\n",
              "    .dataframe tbody tr th {\n",
              "        vertical-align: top;\n",
              "    }\n",
              "\n",
              "    .dataframe thead th {\n",
              "        text-align: right;\n",
              "    }\n",
              "</style>\n",
              "<table border=\"1\" class=\"dataframe\">\n",
              "  <thead>\n",
              "    <tr style=\"text-align: right;\">\n",
              "      <th></th>\n",
              "      <th>Credit_Mix</th>\n",
              "    </tr>\n",
              "  </thead>\n",
              "  <tbody>\n",
              "    <tr>\n",
              "      <th>count</th>\n",
              "      <td>39935</td>\n",
              "    </tr>\n",
              "    <tr>\n",
              "      <th>unique</th>\n",
              "      <td>3</td>\n",
              "    </tr>\n",
              "    <tr>\n",
              "      <th>top</th>\n",
              "      <td>Standard</td>\n",
              "    </tr>\n",
              "    <tr>\n",
              "      <th>freq</th>\n",
              "      <td>18379</td>\n",
              "    </tr>\n",
              "  </tbody>\n",
              "</table>\n",
              "</div><br><label><b>dtype:</b> object</label>"
            ]
          },
          "metadata": {},
          "execution_count": 19
        }
      ]
    },
    {
      "cell_type": "markdown",
      "source": [
        "We can notive a lot of high numbers, we should get rid of them."
      ],
      "metadata": {
        "id": "Y5hGifyUpcT3"
      }
    },
    {
      "cell_type": "code",
      "source": [
        "df['Age'] = pd.to_numeric(df['Age'], errors='coerce') #converting to numeric"
      ],
      "metadata": {
        "id": "7u_WC5__pX6K"
      },
      "execution_count": null,
      "outputs": []
    },
    {
      "cell_type": "markdown",
      "source": [
        "High presence of outliers with implausible age values."
      ],
      "metadata": {
        "id": "lRKFGwys_VCS"
      }
    },
    {
      "cell_type": "code",
      "source": [
        "print(df['Age'].min())\n",
        "df[df['Age'] < 0]['Age'].unique()"
      ],
      "metadata": {
        "colab": {
          "base_uri": "https://localhost:8080/"
        },
        "id": "nC2QPDFVp5kC",
        "outputId": "2cdf595c-4a77-4fea-fd5f-7aa31872d414"
      },
      "execution_count": null,
      "outputs": [
        {
          "output_type": "stream",
          "name": "stdout",
          "text": [
            "-500\n"
          ]
        },
        {
          "output_type": "execute_result",
          "data": {
            "text/plain": [
              "array([-500])"
            ]
          },
          "metadata": {},
          "execution_count": 21
        }
      ]
    },
    {
      "cell_type": "markdown",
      "source": [
        "There are 500 unique negative age values."
      ],
      "metadata": {
        "id": "oSjYHSjTqklY"
      }
    },
    {
      "cell_type": "code",
      "source": [
        "df[df['Age'] > 100]['Age'].nunique() #checking for age greater than 100"
      ],
      "metadata": {
        "colab": {
          "base_uri": "https://localhost:8080/"
        },
        "id": "kPBT2RSZqsAV",
        "outputId": "addd8c00-e53a-4f35-d1fa-72325c4a2fe1"
      },
      "execution_count": null,
      "outputs": [
        {
          "output_type": "execute_result",
          "data": {
            "text/plain": [
              "877"
            ]
          },
          "metadata": {},
          "execution_count": 22
        }
      ]
    },
    {
      "cell_type": "markdown",
      "source": [
        "Also a lot of implausible high values, thus we replace these values with null values, in order to fill them with the age of the customer id reported in the other rows."
      ],
      "metadata": {
        "id": "Vastx-rqq9py"
      }
    },
    {
      "source": [
        "# Replace invalid ages with NaN\n",
        "df.loc[(df['Age'] > 100) | (df['Age'] < 0), 'Age'] = np.nan\n",
        "\n",
        "# Fill NaN values with a down-up approach, resetting index to match df\n",
        "df['Age'] = df.groupby('Customer_ID')['Age'].apply(lambda x: x.fillna(method='bfill').fillna(method='ffill')).reset_index(level=0, drop=True)\n",
        "# The .reset_index(level=0, drop=True) part is crucial. It resets the index of the Series\n",
        "# resulting from the groupby and apply operations, aligning it with the DataFrame df.\n",
        "# The level=0 indicates the first level of the index (since groupby creates a multi-index),\n",
        "# and drop=True removes the old index."
      ],
      "cell_type": "code",
      "metadata": {
        "id": "ke9A8ecgsLa5",
        "colab": {
          "base_uri": "https://localhost:8080/"
        },
        "outputId": "db48e1d0-b507-43ba-9110-1827f7a27c22"
      },
      "execution_count": null,
      "outputs": [
        {
          "output_type": "stream",
          "name": "stderr",
          "text": [
            "<ipython-input-23-8327d8b6ebfd>:5: FutureWarning: Series.fillna with 'method' is deprecated and will raise in a future version. Use obj.ffill() or obj.bfill() instead.\n",
            "  df['Age'] = df.groupby('Customer_ID')['Age'].apply(lambda x: x.fillna(method='bfill').fillna(method='ffill')).reset_index(level=0, drop=True)\n"
          ]
        }
      ]
    },
    {
      "cell_type": "code",
      "source": [
        "print(df.shape)\n",
        "print(df['Age'].nunique())"
      ],
      "metadata": {
        "colab": {
          "base_uri": "https://localhost:8080/"
        },
        "id": "6YPmAmI3rTjH",
        "outputId": "179ad242-2de7-4144-c382-a37cee82c72e"
      },
      "execution_count": null,
      "outputs": [
        {
          "output_type": "stream",
          "name": "stdout",
          "text": [
            "(49686, 21)\n",
            "44\n"
          ]
        }
      ]
    },
    {
      "cell_type": "markdown",
      "source": [
        "44 unique age values is a plausible number."
      ],
      "metadata": {
        "id": "EM_LeK3WrpAt"
      }
    },
    {
      "cell_type": "markdown",
      "source": [
        "Most of the clients are between 20 and 45 years old."
      ],
      "metadata": {
        "id": "c11Ma_KsfvEs"
      }
    },
    {
      "cell_type": "code",
      "source": [
        "df['Num_of_Delayed_Payment'] = pd.to_numeric(df['Num_of_Delayed_Payment'], errors='coerce') #converting to numeric\n",
        "df[df['Num_of_Delayed_Payment'] < 0]['Num_of_Delayed_Payment'].unique()"
      ],
      "metadata": {
        "id": "4cjBkSZpk_8y",
        "colab": {
          "base_uri": "https://localhost:8080/"
        },
        "outputId": "961b9143-6147-48f9-ad80-2447317c2d23"
      },
      "execution_count": null,
      "outputs": [
        {
          "output_type": "execute_result",
          "data": {
            "text/plain": [
              "array([-1., -2., -3.])"
            ]
          },
          "metadata": {},
          "execution_count": 25
        }
      ]
    },
    {
      "cell_type": "code",
      "source": [
        "df.drop(df[df['Num_of_Delayed_Payment'] < 0].index, inplace = True) #dropping rows with negative values"
      ],
      "metadata": {
        "id": "6SqXYvqrYEvy"
      },
      "execution_count": null,
      "outputs": []
    },
    {
      "cell_type": "code",
      "source": [
        "df['Annual_Income'] = df['Annual_Income'].astype(float)\n",
        "df['Outstanding_Debt'] = df['Outstanding_Debt'].astype(float) #converting to float"
      ],
      "metadata": {
        "id": "rqJposT4dABb"
      },
      "execution_count": null,
      "outputs": []
    },
    {
      "cell_type": "code",
      "source": [
        "df['Num_of_Loan'] = pd.to_numeric(df['Num_of_Loan'], errors='coerce')\n",
        "df[df['Num_of_Loan'] < 0]['Num_of_Loan'].unique() #converting to numeric and checking if there are negative values"
      ],
      "metadata": {
        "colab": {
          "base_uri": "https://localhost:8080/"
        },
        "id": "fxXVmPtCoCHI",
        "outputId": "2416d593-94cc-4973-e989-64f912b1f456"
      },
      "execution_count": null,
      "outputs": [
        {
          "output_type": "execute_result",
          "data": {
            "text/plain": [
              "array([-100])"
            ]
          },
          "metadata": {},
          "execution_count": 28
        }
      ]
    },
    {
      "cell_type": "code",
      "source": [
        "df.drop(df[df['Num_of_Loan'] < 0].index, inplace = True) #dropping rows with negative values"
      ],
      "metadata": {
        "id": "jZgY9Vx2pSet"
      },
      "execution_count": null,
      "outputs": []
    },
    {
      "cell_type": "code",
      "source": [
        "# Calculate Q1 (25th percentile) and Q3 (75th percentile)\n",
        "Q1 = df['Num_of_Loan'].quantile(0.25)\n",
        "Q3 = df['Num_of_Loan'].quantile(0.75)\n",
        "\n",
        "# Calculate the IQR\n",
        "IQR = Q3 - Q1\n",
        "\n",
        "# Define the lower and upper bounds for outliers\n",
        "lower_bound = Q1 - 1.5 * IQR\n",
        "upper_bound = Q3 + 1.5 * IQR\n",
        "\n",
        "#dropping outliers\n",
        "df.drop(df[df['Num_of_Loan'] > upper_bound].index, inplace = True)"
      ],
      "metadata": {
        "id": "U0B8Rmj61fTx"
      },
      "execution_count": null,
      "outputs": []
    },
    {
      "cell_type": "code",
      "source": [
        "df.shape[0] #numer of rows only"
      ],
      "metadata": {
        "colab": {
          "base_uri": "https://localhost:8080/"
        },
        "id": "JWBP7gaZqGGs",
        "outputId": "9bda4c0c-6ef4-4b94-efe6-9a867493698d"
      },
      "execution_count": null,
      "outputs": [
        {
          "output_type": "execute_result",
          "data": {
            "text/plain": [
              "47206"
            ]
          },
          "metadata": {},
          "execution_count": 31
        }
      ]
    },
    {
      "cell_type": "code",
      "source": [
        "df['Num_Credit_Card'].describe()"
      ],
      "metadata": {
        "colab": {
          "base_uri": "https://localhost:8080/",
          "height": 335
        },
        "id": "ub_buoE-cO9H",
        "outputId": "aec30189-e2e3-478c-e9b4-d2b2814ef2c0"
      },
      "execution_count": null,
      "outputs": [
        {
          "output_type": "execute_result",
          "data": {
            "text/plain": [
              "count    47206.000000\n",
              "mean        22.757743\n",
              "std        128.375387\n",
              "min          0.000000\n",
              "25%          4.000000\n",
              "50%          6.000000\n",
              "75%          7.000000\n",
              "max       1499.000000\n",
              "Name: Num_Credit_Card, dtype: float64"
            ],
            "text/html": [
              "<div>\n",
              "<style scoped>\n",
              "    .dataframe tbody tr th:only-of-type {\n",
              "        vertical-align: middle;\n",
              "    }\n",
              "\n",
              "    .dataframe tbody tr th {\n",
              "        vertical-align: top;\n",
              "    }\n",
              "\n",
              "    .dataframe thead th {\n",
              "        text-align: right;\n",
              "    }\n",
              "</style>\n",
              "<table border=\"1\" class=\"dataframe\">\n",
              "  <thead>\n",
              "    <tr style=\"text-align: right;\">\n",
              "      <th></th>\n",
              "      <th>Num_Credit_Card</th>\n",
              "    </tr>\n",
              "  </thead>\n",
              "  <tbody>\n",
              "    <tr>\n",
              "      <th>count</th>\n",
              "      <td>47206.000000</td>\n",
              "    </tr>\n",
              "    <tr>\n",
              "      <th>mean</th>\n",
              "      <td>22.757743</td>\n",
              "    </tr>\n",
              "    <tr>\n",
              "      <th>std</th>\n",
              "      <td>128.375387</td>\n",
              "    </tr>\n",
              "    <tr>\n",
              "      <th>min</th>\n",
              "      <td>0.000000</td>\n",
              "    </tr>\n",
              "    <tr>\n",
              "      <th>25%</th>\n",
              "      <td>4.000000</td>\n",
              "    </tr>\n",
              "    <tr>\n",
              "      <th>50%</th>\n",
              "      <td>6.000000</td>\n",
              "    </tr>\n",
              "    <tr>\n",
              "      <th>75%</th>\n",
              "      <td>7.000000</td>\n",
              "    </tr>\n",
              "    <tr>\n",
              "      <th>max</th>\n",
              "      <td>1499.000000</td>\n",
              "    </tr>\n",
              "  </tbody>\n",
              "</table>\n",
              "</div><br><label><b>dtype:</b> float64</label>"
            ]
          },
          "metadata": {},
          "execution_count": 32
        }
      ]
    },
    {
      "cell_type": "code",
      "source": [
        "df.loc[(df['Num_Credit_Card'] > 11), 'Num_Credit_Card'] = np.nan\n",
        "\n",
        "df['Num_Credit_Card'] = df.groupby('Customer_ID')['Num_Credit_Card'].apply(lambda x: x.fillna(method='bfill').fillna(method='ffill')).reset_index(level=0, drop=True)"
      ],
      "metadata": {
        "id": "dKJDlPIXqJeI",
        "colab": {
          "base_uri": "https://localhost:8080/"
        },
        "outputId": "bdb55dc5-c95b-416b-815d-f04a43801af9"
      },
      "execution_count": null,
      "outputs": [
        {
          "output_type": "stream",
          "name": "stderr",
          "text": [
            "<ipython-input-33-4d0f29cac692>:3: FutureWarning: Series.fillna with 'method' is deprecated and will raise in a future version. Use obj.ffill() or obj.bfill() instead.\n",
            "  df['Num_Credit_Card'] = df.groupby('Customer_ID')['Num_Credit_Card'].apply(lambda x: x.fillna(method='bfill').fillna(method='ffill')).reset_index(level=0, drop=True)\n"
          ]
        }
      ]
    },
    {
      "cell_type": "markdown",
      "source": [
        "Now we need to adjust the credit histoy age into a date type"
      ],
      "metadata": {
        "id": "HVUUgw7QqQv7"
      }
    },
    {
      "cell_type": "code",
      "source": [
        "df['Credit_History_Age']"
      ],
      "metadata": {
        "colab": {
          "base_uri": "https://localhost:8080/",
          "height": 458
        },
        "id": "72B7xb6NqhTA",
        "outputId": "3ae15600-675d-4944-e55d-fc93bacfc06a"
      },
      "execution_count": null,
      "outputs": [
        {
          "output_type": "execute_result",
          "data": {
            "text/plain": [
              "0         22 Years and 9 Months\n",
              "1        22 Years and 10 Months\n",
              "3         23 Years and 0 Months\n",
              "4         27 Years and 3 Months\n",
              "5         27 Years and 4 Months\n",
              "                  ...          \n",
              "49995                       NaN\n",
              "49996    31 Years and 11 Months\n",
              "49997     32 Years and 0 Months\n",
              "49998     32 Years and 1 Months\n",
              "49999     32 Years and 2 Months\n",
              "Name: Credit_History_Age, Length: 47206, dtype: object"
            ],
            "text/html": [
              "<div>\n",
              "<style scoped>\n",
              "    .dataframe tbody tr th:only-of-type {\n",
              "        vertical-align: middle;\n",
              "    }\n",
              "\n",
              "    .dataframe tbody tr th {\n",
              "        vertical-align: top;\n",
              "    }\n",
              "\n",
              "    .dataframe thead th {\n",
              "        text-align: right;\n",
              "    }\n",
              "</style>\n",
              "<table border=\"1\" class=\"dataframe\">\n",
              "  <thead>\n",
              "    <tr style=\"text-align: right;\">\n",
              "      <th></th>\n",
              "      <th>Credit_History_Age</th>\n",
              "    </tr>\n",
              "  </thead>\n",
              "  <tbody>\n",
              "    <tr>\n",
              "      <th>0</th>\n",
              "      <td>22 Years and 9 Months</td>\n",
              "    </tr>\n",
              "    <tr>\n",
              "      <th>1</th>\n",
              "      <td>22 Years and 10 Months</td>\n",
              "    </tr>\n",
              "    <tr>\n",
              "      <th>3</th>\n",
              "      <td>23 Years and 0 Months</td>\n",
              "    </tr>\n",
              "    <tr>\n",
              "      <th>4</th>\n",
              "      <td>27 Years and 3 Months</td>\n",
              "    </tr>\n",
              "    <tr>\n",
              "      <th>5</th>\n",
              "      <td>27 Years and 4 Months</td>\n",
              "    </tr>\n",
              "    <tr>\n",
              "      <th>...</th>\n",
              "      <td>...</td>\n",
              "    </tr>\n",
              "    <tr>\n",
              "      <th>49995</th>\n",
              "      <td>NaN</td>\n",
              "    </tr>\n",
              "    <tr>\n",
              "      <th>49996</th>\n",
              "      <td>31 Years and 11 Months</td>\n",
              "    </tr>\n",
              "    <tr>\n",
              "      <th>49997</th>\n",
              "      <td>32 Years and 0 Months</td>\n",
              "    </tr>\n",
              "    <tr>\n",
              "      <th>49998</th>\n",
              "      <td>32 Years and 1 Months</td>\n",
              "    </tr>\n",
              "    <tr>\n",
              "      <th>49999</th>\n",
              "      <td>32 Years and 2 Months</td>\n",
              "    </tr>\n",
              "  </tbody>\n",
              "</table>\n",
              "<p>47206 rows × 1 columns</p>\n",
              "</div><br><label><b>dtype:</b> object</label>"
            ]
          },
          "metadata": {},
          "execution_count": 34
        }
      ]
    },
    {
      "cell_type": "code",
      "source": [
        "df['Credit_History_Age'].nunique() #checking unique values"
      ],
      "metadata": {
        "colab": {
          "base_uri": "https://localhost:8080/"
        },
        "id": "PfMdxtzMqcU3",
        "outputId": "deb62e2f-3cec-4ca9-df2c-a9f6ccdc4667"
      },
      "execution_count": null,
      "outputs": [
        {
          "output_type": "execute_result",
          "data": {
            "text/plain": [
              "399"
            ]
          },
          "metadata": {},
          "execution_count": 35
        }
      ]
    },
    {
      "source": [
        "# Function to extract years and months\n",
        "def extract_years_months(Credit_History_Age):\n",
        "    import re\n",
        "    # Handle non-string values\n",
        "    if not isinstance(Credit_History_Age, str):\n",
        "        return None, None\n",
        "    match = re.match(r'(\\d+) Years and (\\d+) Months', Credit_History_Age)\n",
        "    if match:\n",
        "        years = int(match.group(1))\n",
        "        months = int(match.group(2))\n",
        "        return years, months\n",
        "    return None, None\n",
        "\n",
        "# Apply the function to the column and create new columns\n",
        "df[['Years', 'Months']] = df['Credit_History_Age'].apply(lambda x: pd.Series(extract_years_months(x)))\n",
        "\n",
        "# Convert the total credit history age into months\n",
        "df['Total_Months'] = df['Years'] * 12 + df['Months']\n"
      ],
      "cell_type": "code",
      "metadata": {
        "id": "QGwJJrqytRL_"
      },
      "execution_count": null,
      "outputs": []
    },
    {
      "cell_type": "markdown",
      "source": [
        "We can see from the distribution that the highest frequency is between 200 and 250 months"
      ],
      "metadata": {
        "id": "XerSQEukwYP-"
      }
    },
    {
      "cell_type": "code",
      "source": [
        "df.dropna(subset=[\"Total_Months\"], inplace=True) #filling missing values with mean\n"
      ],
      "metadata": {
        "id": "bNhxh9bpX3Sv"
      },
      "execution_count": null,
      "outputs": []
    },
    {
      "cell_type": "code",
      "source": [
        "df.drop('Credit_History_Age', axis = 1, inplace = True) #dropping column as I already converted the values in months as float"
      ],
      "metadata": {
        "id": "70_1wPE8YN4d"
      },
      "execution_count": null,
      "outputs": []
    },
    {
      "cell_type": "markdown",
      "source": [
        "Number Of Credit Inquiries"
      ],
      "metadata": {
        "id": "0q6ZlvS8Bd9P"
      }
    },
    {
      "cell_type": "markdown",
      "source": [
        "That looks like 2593.0 credit inquiries is not a plausible number for a typical individual. This number is extremely high and probably indicates an anomaly or error in the data. Let's see how many of these high values are in the dataset."
      ],
      "metadata": {
        "id": "IYi8Wgnny6dF"
      }
    },
    {
      "cell_type": "markdown",
      "source": [
        "The median is 7 inquiries, THE 3RD QUARTILE IS 10, the max value is clearly anomalous as the other tail values we have observed."
      ],
      "metadata": {
        "id": "MS4MOWxfeAEh"
      }
    },
    {
      "cell_type": "markdown",
      "source": [
        "Let's check the ouliers using the Interquartile Range (IQR) method"
      ],
      "metadata": {
        "id": "-fVUVzilaF52"
      }
    },
    {
      "cell_type": "code",
      "source": [
        "# Calculate Q1 (25th percentile) and Q3 (75th percentile)\n",
        "Q1 = df['Num_Credit_Inquiries'].quantile(0.25)\n",
        "Q3 = df['Num_Credit_Inquiries'].quantile(0.75)\n",
        "\n",
        "# Calculate the IQR\n",
        "IQR = Q3 - Q1\n",
        "\n",
        "# Define the lower and upper bounds for outliers\n",
        "lower_bound = Q1 - 1.5 * IQR\n",
        "upper_bound = Q3 + 1.5 * IQR\n",
        "\n",
        "# Identify outliers\n",
        "outliers = df[(df['Num_Credit_Inquiries'] < lower_bound) | (df['Num_Credit_Inquiries'] > upper_bound)]\n",
        "\n",
        "# Count the number of outliers\n",
        "num_outliers = outliers.shape[0]\n",
        "\n",
        "# Display the number of outliers\n",
        "num_outliers\n"
      ],
      "metadata": {
        "colab": {
          "base_uri": "https://localhost:8080/"
        },
        "id": "JuyMl5oQaO85",
        "outputId": "e3b2cb74-947a-4595-e255-dabedf787202"
      },
      "execution_count": null,
      "outputs": [
        {
          "output_type": "execute_result",
          "data": {
            "text/plain": [
              "743"
            ]
          },
          "metadata": {},
          "execution_count": 39
        }
      ]
    },
    {
      "cell_type": "markdown",
      "source": [
        "We have 722 outliers for the variable number of credit inquiries."
      ],
      "metadata": {
        "id": "_MXNHdu5eaph"
      }
    },
    {
      "cell_type": "markdown",
      "source": [
        "Now we can clearly visualize the outliers, let's drop them."
      ],
      "metadata": {
        "id": "DOrorL5BfzOX"
      }
    },
    {
      "source": [
        "df.loc[(df['Num_Credit_Inquiries'] < lower_bound) | (df['Num_Credit_Inquiries'] > upper_bound), 'Num_Credit_Inquiries'] = np.nan\n",
        "# Reset index after groupby to align with original DataFrame\n",
        "df['Num_Credit_Inquiries'] = df.groupby('Customer_ID')['Num_Credit_Inquiries'].apply(lambda x: x.fillna(method='bfill').fillna(method='ffill')).reset_index(level=0, drop=True)"
      ],
      "cell_type": "code",
      "metadata": {
        "id": "VVZAZ17WwRmq",
        "colab": {
          "base_uri": "https://localhost:8080/"
        },
        "outputId": "1c3d31a6-c9d3-4ef3-dd9d-513f0305eccf"
      },
      "execution_count": null,
      "outputs": [
        {
          "output_type": "stream",
          "name": "stderr",
          "text": [
            "<ipython-input-40-62693642ffe2>:3: FutureWarning: Series.fillna with 'method' is deprecated and will raise in a future version. Use obj.ffill() or obj.bfill() instead.\n",
            "  df['Num_Credit_Inquiries'] = df.groupby('Customer_ID')['Num_Credit_Inquiries'].apply(lambda x: x.fillna(method='bfill').fillna(method='ffill')).reset_index(level=0, drop=True)\n"
          ]
        }
      ]
    },
    {
      "cell_type": "markdown",
      "source": [
        "We can see that the distribution has now only plausible values, with a max value of 17 inquiries."
      ],
      "metadata": {
        "id": "zp_uSMOliY1y"
      }
    },
    {
      "cell_type": "code",
      "source": [
        "# IQR\n",
        "Q1 = df['Num_of_Delayed_Payment'].quantile(0.25)\n",
        "Q3 = df['Num_of_Delayed_Payment'].quantile(0.75)\n",
        "\n",
        "IQR = Q3 - Q1\n",
        "\n",
        "lower_bound = Q1 - 1.5 * IQR\n",
        "upper_bound = Q3 + 1.5 * IQR\n",
        "\n",
        "df.drop(df[df['Num_of_Delayed_Payment'] > upper_bound].index, inplace = True) #dropping outliers\n",
        "df.drop(df[df['Num_of_Delayed_Payment'] < lower_bound].index, inplace = True)"
      ],
      "metadata": {
        "id": "CVxuagcv3Vcw"
      },
      "execution_count": null,
      "outputs": []
    },
    {
      "cell_type": "code",
      "source": [
        "df.shape[0]"
      ],
      "metadata": {
        "colab": {
          "base_uri": "https://localhost:8080/"
        },
        "id": "9PJsfi3t4I7k",
        "outputId": "4dfc378f-8d82-401e-da08-5a2209568f58"
      },
      "execution_count": null,
      "outputs": [
        {
          "output_type": "execute_result",
          "data": {
            "text/plain": [
              "42645"
            ]
          },
          "metadata": {},
          "execution_count": 42
        }
      ]
    },
    {
      "cell_type": "markdown",
      "source": [
        "# Monthly Balance\n",
        "\n"
      ],
      "metadata": {
        "id": "JY9PdNHnpcpw"
      }
    },
    {
      "cell_type": "code",
      "source": [
        "#Converting the monthly balance into numeric type\n",
        "df['Monthly_Balance'] = pd.to_numeric(df['Monthly_Balance'], errors='coerce')"
      ],
      "metadata": {
        "id": "aetsehyMlXSc"
      },
      "execution_count": null,
      "outputs": []
    },
    {
      "cell_type": "code",
      "source": [
        "#IQR\n",
        "Q1 = df['Monthly_Balance'].quantile(0.25)\n",
        "Q3 = df['Monthly_Balance'].quantile(0.75)\n",
        "\n",
        "IQR = Q3 - Q1\n",
        "\n",
        "lower_bound = Q1 - 1.5 * IQR\n",
        "upper_bound = Q3 + 1.5 * IQR"
      ],
      "metadata": {
        "id": "6kBrlKvIdDLw"
      },
      "execution_count": null,
      "outputs": []
    },
    {
      "cell_type": "code",
      "source": [
        "df.drop(df[df['Monthly_Balance'] < lower_bound].index, inplace = True) #dropping outliers\n",
        "df.drop(df[df['Monthly_Balance'] > upper_bound].index, inplace = True)"
      ],
      "metadata": {
        "id": "a0DgzHgCrzGy"
      },
      "execution_count": null,
      "outputs": []
    },
    {
      "cell_type": "code",
      "source": [
        "#IQR\n",
        "Q1 = df['Total_EMI_per_month'].quantile(0.25)\n",
        "Q3 = df['Total_EMI_per_month'].quantile(0.75)\n",
        "\n",
        "IQR = Q3 - Q1\n",
        "\n",
        "lower_bound = Q1 - 1.5 * IQR\n",
        "upper_bound = Q3 + 1.5 * IQR"
      ],
      "metadata": {
        "id": "E3t2462SdiA1"
      },
      "execution_count": null,
      "outputs": []
    },
    {
      "cell_type": "code",
      "source": [
        "df.drop(df[df['Total_EMI_per_month'] < lower_bound].index, inplace = True) #dropping outliers\n",
        "df.drop(df[df['Total_EMI_per_month'] > upper_bound].index, inplace = True)"
      ],
      "metadata": {
        "id": "9hTe3ZLyxxud"
      },
      "execution_count": null,
      "outputs": []
    },
    {
      "cell_type": "markdown",
      "source": [
        "# **Now let's check the categorical variables**\n"
      ],
      "metadata": {
        "id": "TGiGhzHX4s4q"
      }
    },
    {
      "cell_type": "code",
      "source": [
        "# Replace '!@9#%8' with NaN\n",
        "df['Payment_Behaviour'].replace('!@9#%8', pd.NA, inplace=True)\n",
        "\n",
        "# Impute missing values with mode\n",
        "mode_value = df['Payment_Behaviour'].mode()[0]\n",
        "df['Payment_Behaviour'].fillna(mode_value, inplace=True)"
      ],
      "metadata": {
        "id": "q4Mry1Mp4OR5"
      },
      "execution_count": null,
      "outputs": []
    },
    {
      "cell_type": "code",
      "source": [
        "df['Payment_Behaviour'].value_counts()"
      ],
      "metadata": {
        "id": "4AWziqxi57N_",
        "colab": {
          "base_uri": "https://localhost:8080/",
          "height": 304
        },
        "outputId": "e6751f4f-c5eb-4d75-c63b-0e8018bc1da8"
      },
      "execution_count": null,
      "outputs": [
        {
          "output_type": "execute_result",
          "data": {
            "text/plain": [
              "Payment_Behaviour\n",
              "LowspentSmallvaluepayments      12956\n",
              "HighspentMediumvaluepayments     6093\n",
              "LowspentMediumvaluepayments      5207\n",
              "HighspentSmallvaluepayments      4301\n",
              "LowspentLargevaluepayments       4014\n",
              "HighspentLargevaluepayments      3764\n",
              "Name: count, dtype: int64"
            ],
            "text/html": [
              "<div>\n",
              "<style scoped>\n",
              "    .dataframe tbody tr th:only-of-type {\n",
              "        vertical-align: middle;\n",
              "    }\n",
              "\n",
              "    .dataframe tbody tr th {\n",
              "        vertical-align: top;\n",
              "    }\n",
              "\n",
              "    .dataframe thead th {\n",
              "        text-align: right;\n",
              "    }\n",
              "</style>\n",
              "<table border=\"1\" class=\"dataframe\">\n",
              "  <thead>\n",
              "    <tr style=\"text-align: right;\">\n",
              "      <th></th>\n",
              "      <th>count</th>\n",
              "    </tr>\n",
              "    <tr>\n",
              "      <th>Payment_Behaviour</th>\n",
              "      <th></th>\n",
              "    </tr>\n",
              "  </thead>\n",
              "  <tbody>\n",
              "    <tr>\n",
              "      <th>LowspentSmallvaluepayments</th>\n",
              "      <td>12956</td>\n",
              "    </tr>\n",
              "    <tr>\n",
              "      <th>HighspentMediumvaluepayments</th>\n",
              "      <td>6093</td>\n",
              "    </tr>\n",
              "    <tr>\n",
              "      <th>LowspentMediumvaluepayments</th>\n",
              "      <td>5207</td>\n",
              "    </tr>\n",
              "    <tr>\n",
              "      <th>HighspentSmallvaluepayments</th>\n",
              "      <td>4301</td>\n",
              "    </tr>\n",
              "    <tr>\n",
              "      <th>LowspentLargevaluepayments</th>\n",
              "      <td>4014</td>\n",
              "    </tr>\n",
              "    <tr>\n",
              "      <th>HighspentLargevaluepayments</th>\n",
              "      <td>3764</td>\n",
              "    </tr>\n",
              "  </tbody>\n",
              "</table>\n",
              "</div><br><label><b>dtype:</b> int64</label>"
            ]
          },
          "metadata": {},
          "execution_count": 49
        }
      ]
    },
    {
      "cell_type": "code",
      "source": [
        "df.drop(['Years', 'Months'], axis = 1, inplace = True) #dropping unnecessary columns"
      ],
      "metadata": {
        "id": "K7hL0kEeT2F8"
      },
      "execution_count": null,
      "outputs": []
    },
    {
      "cell_type": "code",
      "source": [
        "df[\"Changed_Credit_Limit\"] = pd.to_numeric(df[\"Changed_Credit_Limit\"], errors=\"coerce\")\n",
        "df[\"Changed_Credit_Limit\"].fillna(df[\"Changed_Credit_Limit\"].mean(), inplace=True)"
      ],
      "metadata": {
        "id": "y4t7zPH_upD6"
      },
      "execution_count": null,
      "outputs": []
    },
    {
      "cell_type": "code",
      "source": [
        "plt.figure(figsize=(15, 10))\n",
        "sns.heatmap(df.select_dtypes(include='number').corr(), annot = True)"
      ],
      "metadata": {
        "id": "A9JrzVNrToag",
        "colab": {
          "base_uri": "https://localhost:8080/",
          "height": 1000
        },
        "outputId": "eb39a1f3-9f26-4ee8-9426-31e40fcaea1c"
      },
      "execution_count": null,
      "outputs": [
        {
          "output_type": "execute_result",
          "data": {
            "text/plain": [
              "<Axes: >"
            ]
          },
          "metadata": {},
          "execution_count": 52
        },
        {
          "output_type": "display_data",
          "data": {
            "text/plain": [
              "<Figure size 1500x1000 with 2 Axes>"
            ],
            "image/png": "[encoded data removed]"
          },
          "metadata": {}
        }
      ]
    },
    {
      "cell_type": "markdown",
      "source": [
        "## Since we want to see the correlation matrix including the categorical variables also, which are encoded as objects, we should map them to numerical values to perform the correlation analysis and use them for grouping and imputation.#"
      ],
      "metadata": {
        "id": "nzRGlV0atHDp"
      }
    },
    {
      "cell_type": "code",
      "source": [
        "# Select non-numerical columns\n",
        "non_numerical_cols = df.select_dtypes(include=[\"object\"]).columns\n",
        "\n",
        "# Print the non-numerical columns\n",
        "print(non_numerical_cols)\n"
      ],
      "metadata": {
        "id": "ncJ5gbwTtd2M",
        "colab": {
          "base_uri": "https://localhost:8080/"
        },
        "outputId": "361578b4-619c-4c18-d351-00b66d54cc09"
      },
      "execution_count": null,
      "outputs": [
        {
          "output_type": "stream",
          "name": "stdout",
          "text": [
            "Index(['Customer_ID', 'Occupation', 'Credit_Mix', 'Payment_of_Min_Amount',\n",
            "       'Payment_Behaviour'],\n",
            "      dtype='object')\n"
          ]
        }
      ]
    },
    {
      "cell_type": "markdown",
      "source": [
        "Map them in numerical variables"
      ],
      "metadata": {
        "id": "wBphU75LuCXm"
      }
    },
    {
      "cell_type": "code",
      "source": [
        "# Define the mapping for the Credit_Mix column\n",
        "credit_map = {\"Good\": 3, \"Standard\": 2, \"Bad\": 1}  # Invert the scale to reflect ordinal nature\n",
        "df['Credit_Mix'] = df['Credit_Mix'].replace(credit_map)"
      ],
      "metadata": {
        "id": "PMFgqIL1tZIQ"
      },
      "execution_count": null,
      "outputs": []
    },
    {
      "cell_type": "code",
      "source": [
        "pay_map = {\"Yes\": 3, \"No\": 1, \"NM\": 2}  # Adjusted to reflect positive and negative behaviors\n",
        "df['Payment_of_Min_Amount'] = df['Payment_of_Min_Amount'].replace(pay_map)"
      ],
      "metadata": {
        "id": "J66uNKgpKFCx"
      },
      "execution_count": null,
      "outputs": []
    },
    {
      "cell_type": "code",
      "source": [
        "def convert_payment_behaviour(value):\n",
        "    value = value.replace('Lowspent', 'Low_spent_').replace('Highspent', 'High_spent_')\n",
        "    value = value.replace('Smallvaluepayments', 'Small_value_payments')\n",
        "    value = value.replace('Mediumvaluepayments', 'Medium_value_payments')\n",
        "    value = value.replace('Largevaluepayments', 'Large_value_payments')\n",
        "    return value\n",
        "\n",
        "# Apply the function to the 'Payment_Behaviour' column\n",
        "df['Payment_Behaviour'] = df['Payment_Behaviour'].apply(convert_payment_behaviour)\n"
      ],
      "metadata": {
        "id": "QywN9kT_yy11"
      },
      "execution_count": null,
      "outputs": []
    },
    {
      "cell_type": "code",
      "source": [
        "\n",
        "\n",
        "category_ranking = {\n",
        "    'High_spent_Large_value_payments': 1,\n",
        "    'High_spent_Medium_value_payments': 2,\n",
        "    'High_spent_Small_value_payments': 3,\n",
        "    'Low_spent_Large_value_payments': 4,\n",
        "    'Low_spent_Medium_value_payments': 5,\n",
        "    'Low_spent_Small_value_payments': 6\n",
        "}\n",
        "df['Payment_Behaviour'] = df['Payment_Behaviour'].replace(category_ranking)"
      ],
      "metadata": {
        "id": "u9mRvJG6wVCY"
      },
      "execution_count": null,
      "outputs": []
    },
    {
      "source": [
        "df['Occupation'] = df.groupby('Customer_ID')['Occupation'].apply(lambda x: x.fillna(method='bfill').fillna(method='ffill')).reset_index(level=0, drop=True)  # Filling missing values"
      ],
      "cell_type": "code",
      "metadata": {
        "id": "mukooXg28we9",
        "colab": {
          "base_uri": "https://localhost:8080/"
        },
        "outputId": "1317d803-21fc-452b-a66b-b8d71ed686ba"
      },
      "execution_count": null,
      "outputs": [
        {
          "output_type": "stream",
          "name": "stderr",
          "text": [
            "<ipython-input-58-94616612fcd0>:1: FutureWarning: Series.fillna with 'method' is deprecated and will raise in a future version. Use obj.ffill() or obj.bfill() instead.\n",
            "  df['Occupation'] = df.groupby('Customer_ID')['Occupation'].apply(lambda x: x.fillna(method='bfill').fillna(method='ffill')).reset_index(level=0, drop=True)  # Filling missing values\n"
          ]
        }
      ]
    },
    {
      "cell_type": "code",
      "source": [
        "df['Occupation'].dtype #checking data type"
      ],
      "metadata": {
        "id": "NhAq2QaN7VKr",
        "colab": {
          "base_uri": "https://localhost:8080/"
        },
        "outputId": "8e4d179f-2b18-48dd-b069-e7f830e977d2"
      },
      "execution_count": null,
      "outputs": [
        {
          "output_type": "execute_result",
          "data": {
            "text/plain": [
              "dtype('O')"
            ]
          },
          "metadata": {},
          "execution_count": 59
        }
      ]
    },
    {
      "cell_type": "markdown",
      "source": [
        "**Transforming Type of Loan in numeric**"
      ],
      "metadata": {
        "id": "0X-TenfGgSfO"
      }
    },
    {
      "cell_type": "markdown",
      "source": [
        "When dealing with variables that contain lists of categories (like your \"Type of Loan\" variable where each individual can have multiple types of loans), I have several options to transform this data for use in machine learning models. Here are some common methods:\n",
        "\n",
        "Multi-label Binarizer:\n",
        "This method converts the lists of loan types into a binary matrix where each type of loan has its own column, and the presence of a loan type is indicated by 1."
      ],
      "metadata": {
        "id": "iRxDnTXlDYJ8"
      }
    },
    {
      "cell_type": "code",
      "source": [
        "# Calculate the correlation matrix\n",
        "df_without_strings = df.drop(columns=['Occupation', \"Customer_ID\"]) #dropping occupation since it's a string type\n",
        "\n",
        "# Calculate the correlation matrix without 'Occupation'\n",
        "correlation_matrix = df_without_strings.corr()\n",
        "\n",
        "# Identify the variable with the highest correlation with 'Num_of_Delayed_Payment'\n",
        "high_corr_var = correlation_matrix['Num_of_Delayed_Payment'].sort_values(ascending=False).index[1]  # Index [1] to skip self-correlation\n",
        "\n",
        "print(f\"Variable with highest correlation to 'Num_of_Delayed_Payment': {high_corr_var}\")"
      ],
      "metadata": {
        "id": "rZpf1Oa2vaEe",
        "colab": {
          "base_uri": "https://localhost:8080/"
        },
        "outputId": "17988cee-5d20-4019-84ae-54acd8398c9b"
      },
      "execution_count": null,
      "outputs": [
        {
          "output_type": "stream",
          "name": "stdout",
          "text": [
            "Variable with highest correlation to 'Num_of_Delayed_Payment': Payment_of_Min_Amount\n"
          ]
        }
      ]
    },
    {
      "cell_type": "code",
      "source": [
        "#Since Credit Mix has a lot of missing values, we are going to try with the second most correlated variable\n",
        "high_corr_var_2 = correlation_matrix['Num_of_Delayed_Payment'].sort_values(ascending=False).index[2]  # Index [2]\n",
        "\n",
        "print(f\"Variable with second highest correlation to 'Num_of_Delayed_Payment': {high_corr_var_2}\")"
      ],
      "metadata": {
        "id": "0WKFtIh7MxOJ",
        "colab": {
          "base_uri": "https://localhost:8080/"
        },
        "outputId": "0f676006-f2d8-44e5-c563-f82ae74e57fb"
      },
      "execution_count": null,
      "outputs": [
        {
          "output_type": "stream",
          "name": "stdout",
          "text": [
            "Variable with second highest correlation to 'Num_of_Delayed_Payment': Delay_from_due_date\n"
          ]
        }
      ]
    },
    {
      "cell_type": "code",
      "source": [
        "df['Delay_from_due_date'].isna().sum()"
      ],
      "metadata": {
        "id": "fyR09H1XNZgj",
        "colab": {
          "base_uri": "https://localhost:8080/"
        },
        "outputId": "55b411c6-40ae-4cb8-bacc-6bf4e9221a18"
      },
      "execution_count": null,
      "outputs": [
        {
          "output_type": "execute_result",
          "data": {
            "text/plain": [
              "0"
            ]
          },
          "metadata": {},
          "execution_count": 65
        }
      ]
    },
    {
      "cell_type": "code",
      "source": [
        "# Group by the highly correlated variable and calculate the median for 'Num_of_Delayed_Payment' within each group\n",
        "median_by_group = df.groupby('Delay_from_due_date')['Num_of_Delayed_Payment'].transform('median')\n",
        "\n",
        "# Fill NaN values in 'Num_of_Delayed_Payment' with the median for each group\n",
        "df['Num_of_Delayed_Payment'].fillna(median_by_group, inplace=True)\n",
        "\n",
        "# Check the result\n",
        "print(df['Num_of_Delayed_Payment'].isna().sum())"
      ],
      "metadata": {
        "id": "QiuvTkLFveeN",
        "colab": {
          "base_uri": "https://localhost:8080/"
        },
        "outputId": "60dd4191-e962-4def-8508-6f08b996be3c"
      },
      "execution_count": null,
      "outputs": [
        {
          "output_type": "stream",
          "name": "stdout",
          "text": [
            "0\n"
          ]
        }
      ]
    },
    {
      "cell_type": "markdown",
      "source": [
        "We do the same for the number of credit inquiries"
      ],
      "metadata": {
        "id": "pViUs_mN3d8-"
      }
    },
    {
      "cell_type": "code",
      "source": [
        "high_corr_var_num_credit_inquiries = correlation_matrix['Num_Credit_Inquiries'].sort_values(ascending=False).index[1]  # Index [1] to skip self-correlation\n",
        "\n",
        "print(f\"Variable with highest correlation to 'Num_Credit_Inquiries': {high_corr_var_num_credit_inquiries}\")\n",
        "\n",
        "high_corr_var_num_credit_inquiries = correlation_matrix['Num_Credit_Inquiries'].sort_values(ascending=False).index[2]\n",
        "\n",
        "print(f\"Variable with second highest correlation to 'Num_Credit_Inquiries': {high_corr_var_num_credit_inquiries}\")"
      ],
      "metadata": {
        "id": "VUUXZ0Ui0iMg",
        "colab": {
          "base_uri": "https://localhost:8080/"
        },
        "outputId": "d624d043-6fa9-4214-fc5e-c6e8e7187efb"
      },
      "execution_count": null,
      "outputs": [
        {
          "output_type": "stream",
          "name": "stdout",
          "text": [
            "Variable with highest correlation to 'Num_Credit_Inquiries': Outstanding_Debt\n",
            "Variable with second highest correlation to 'Num_Credit_Inquiries': Payment_of_Min_Amount\n"
          ]
        }
      ]
    },
    {
      "cell_type": "code",
      "source": [
        "# Group by the highly correlated variable and calculate the median for 'Num_of_Delayed_Payment' within each group\n",
        "median_by_group_inq = df.groupby('Outstanding_Debt')['Num_Credit_Inquiries'].transform('median')\n",
        "\n",
        "# Fill NaN values in 'Num_of_Delayed_Payment' with the median for each group\n",
        "df['Num_Credit_Inquiries'].fillna(median_by_group_inq, inplace=True)\n",
        "\n",
        "# Check the result\n",
        "print(df['Num_Credit_Inquiries'].isna().sum())"
      ],
      "metadata": {
        "id": "oOdX7RrLCNU8",
        "colab": {
          "base_uri": "https://localhost:8080/"
        },
        "outputId": "dc961832-699f-4df0-8083-d16c26721b34"
      },
      "execution_count": null,
      "outputs": [
        {
          "output_type": "stream",
          "name": "stdout",
          "text": [
            "7\n"
          ]
        }
      ]
    },
    {
      "cell_type": "code",
      "source": [
        "#counting missing values\n",
        "df.isna().sum()"
      ],
      "metadata": {
        "id": "BNtPIcB4_R8K",
        "colab": {
          "base_uri": "https://localhost:8080/",
          "height": 743
        },
        "outputId": "d53f53d4-78fe-4def-ae14-0a6d46f18a4e"
      },
      "execution_count": null,
      "outputs": [
        {
          "output_type": "execute_result",
          "data": {
            "text/plain": [
              "Customer_ID                    0\n",
              "Age                            0\n",
              "Occupation                    78\n",
              "Annual_Income                  0\n",
              "Monthly_Inhand_Salary       5455\n",
              "Num_Bank_Accounts              0\n",
              "Num_Credit_Card                0\n",
              "Interest_Rate                  0\n",
              "Num_of_Loan                    0\n",
              "Delay_from_due_date            0\n",
              "Num_of_Delayed_Payment         0\n",
              "Changed_Credit_Limit           0\n",
              "Num_Credit_Inquiries           7\n",
              "Credit_Mix                  7115\n",
              "Outstanding_Debt               0\n",
              "Credit_Utilization_Ratio       0\n",
              "Payment_of_Min_Amount          0\n",
              "Total_EMI_per_month            0\n",
              "Payment_Behaviour              0\n",
              "Monthly_Balance              333\n",
              "Total_Months                   0\n",
              "dtype: int64"
            ],
            "text/html": [
              "<div>\n",
              "<style scoped>\n",
              "    .dataframe tbody tr th:only-of-type {\n",
              "        vertical-align: middle;\n",
              "    }\n",
              "\n",
              "    .dataframe tbody tr th {\n",
              "        vertical-align: top;\n",
              "    }\n",
              "\n",
              "    .dataframe thead th {\n",
              "        text-align: right;\n",
              "    }\n",
              "</style>\n",
              "<table border=\"1\" class=\"dataframe\">\n",
              "  <thead>\n",
              "    <tr style=\"text-align: right;\">\n",
              "      <th></th>\n",
              "      <th>0</th>\n",
              "    </tr>\n",
              "  </thead>\n",
              "  <tbody>\n",
              "    <tr>\n",
              "      <th>Customer_ID</th>\n",
              "      <td>0</td>\n",
              "    </tr>\n",
              "    <tr>\n",
              "      <th>Age</th>\n",
              "      <td>0</td>\n",
              "    </tr>\n",
              "    <tr>\n",
              "      <th>Occupation</th>\n",
              "      <td>78</td>\n",
              "    </tr>\n",
              "    <tr>\n",
              "      <th>Annual_Income</th>\n",
              "      <td>0</td>\n",
              "    </tr>\n",
              "    <tr>\n",
              "      <th>Monthly_Inhand_Salary</th>\n",
              "      <td>5455</td>\n",
              "    </tr>\n",
              "    <tr>\n",
              "      <th>Num_Bank_Accounts</th>\n",
              "      <td>0</td>\n",
              "    </tr>\n",
              "    <tr>\n",
              "      <th>Num_Credit_Card</th>\n",
              "      <td>0</td>\n",
              "    </tr>\n",
              "    <tr>\n",
              "      <th>Interest_Rate</th>\n",
              "      <td>0</td>\n",
              "    </tr>\n",
              "    <tr>\n",
              "      <th>Num_of_Loan</th>\n",
              "      <td>0</td>\n",
              "    </tr>\n",
              "    <tr>\n",
              "      <th>Delay_from_due_date</th>\n",
              "      <td>0</td>\n",
              "    </tr>\n",
              "    <tr>\n",
              "      <th>Num_of_Delayed_Payment</th>\n",
              "      <td>0</td>\n",
              "    </tr>\n",
              "    <tr>\n",
              "      <th>Changed_Credit_Limit</th>\n",
              "      <td>0</td>\n",
              "    </tr>\n",
              "    <tr>\n",
              "      <th>Num_Credit_Inquiries</th>\n",
              "      <td>7</td>\n",
              "    </tr>\n",
              "    <tr>\n",
              "      <th>Credit_Mix</th>\n",
              "      <td>7115</td>\n",
              "    </tr>\n",
              "    <tr>\n",
              "      <th>Outstanding_Debt</th>\n",
              "      <td>0</td>\n",
              "    </tr>\n",
              "    <tr>\n",
              "      <th>Credit_Utilization_Ratio</th>\n",
              "      <td>0</td>\n",
              "    </tr>\n",
              "    <tr>\n",
              "      <th>Payment_of_Min_Amount</th>\n",
              "      <td>0</td>\n",
              "    </tr>\n",
              "    <tr>\n",
              "      <th>Total_EMI_per_month</th>\n",
              "      <td>0</td>\n",
              "    </tr>\n",
              "    <tr>\n",
              "      <th>Payment_Behaviour</th>\n",
              "      <td>0</td>\n",
              "    </tr>\n",
              "    <tr>\n",
              "      <th>Monthly_Balance</th>\n",
              "      <td>333</td>\n",
              "    </tr>\n",
              "    <tr>\n",
              "      <th>Total_Months</th>\n",
              "      <td>0</td>\n",
              "    </tr>\n",
              "  </tbody>\n",
              "</table>\n",
              "</div><br><label><b>dtype:</b> int64</label>"
            ]
          },
          "metadata": {},
          "execution_count": 69
        }
      ]
    },
    {
      "cell_type": "markdown",
      "source": [],
      "metadata": {
        "id": "7w2IIov6_6xj"
      }
    },
    {
      "cell_type": "markdown",
      "source": [],
      "metadata": {
        "id": "aNR8n6mqOPpE"
      }
    },
    {
      "cell_type": "markdown",
      "source": [
        "The distribution of 'Total Months' appears to be negatively skewed, thus using the median to fill NaN values might be a more robust choice since it is less affected by skewness and outliers."
      ],
      "metadata": {
        "id": "jC13nTxFBkSw"
      }
    },
    {
      "cell_type": "code",
      "source": [
        "df['Num_of_Delayed_Payment'].isna().sum()"
      ],
      "metadata": {
        "id": "Lgv3XWEINKPW",
        "colab": {
          "base_uri": "https://localhost:8080/"
        },
        "outputId": "e7af37d3-5cf4-4578-857b-cc2addb2a5a2"
      },
      "execution_count": null,
      "outputs": [
        {
          "output_type": "execute_result",
          "data": {
            "text/plain": [
              "0"
            ]
          },
          "metadata": {},
          "execution_count": 70
        }
      ]
    },
    {
      "cell_type": "code",
      "source": [
        "df['Monthly_Balance'].isna().sum()"
      ],
      "metadata": {
        "colab": {
          "base_uri": "https://localhost:8080/"
        },
        "id": "kilwf_JdSwBP",
        "outputId": "a7522697-05e4-4abd-c8eb-d5b5fdd0f7ed"
      },
      "execution_count": null,
      "outputs": [
        {
          "output_type": "execute_result",
          "data": {
            "text/plain": [
              "333"
            ]
          },
          "metadata": {},
          "execution_count": 71
        }
      ]
    },
    {
      "cell_type": "code",
      "source": [
        "df['Monthly_Inhand_Salary'] = df.groupby('Customer_ID')['Monthly_Inhand_Salary'].apply(lambda x: x.fillna(method='bfill').fillna(method='ffill')).reset_index(level=0, drop=True)"
      ],
      "metadata": {
        "id": "2JSUzSGSYuTZ",
        "colab": {
          "base_uri": "https://localhost:8080/"
        },
        "outputId": "97e8880d-d41f-48b4-d705-59942b0cefe8"
      },
      "execution_count": null,
      "outputs": [
        {
          "output_type": "stream",
          "name": "stderr",
          "text": [
            "<ipython-input-72-23688a7b9b60>:1: FutureWarning: Series.fillna with 'method' is deprecated and will raise in a future version. Use obj.ffill() or obj.bfill() instead.\n",
            "  df['Monthly_Inhand_Salary'] = df.groupby('Customer_ID')['Monthly_Inhand_Salary'].apply(lambda x: x.fillna(method='bfill').fillna(method='ffill')).reset_index(level=0, drop=True)\n"
          ]
        }
      ]
    },
    {
      "cell_type": "markdown",
      "source": [
        "# Before using the KNN imputer to impute the missing values for Credit Mix, We round the numerical variables to the second decimal place and transform the variable into numerical trough mapping it."
      ],
      "metadata": {
        "id": "yUyRVfYTTIVV"
      }
    },
    {
      "cell_type": "code",
      "source": [
        "def round_to_two_decimals(value):\n",
        "    \"\"\"\n",
        "    Rounds a given value to two decimal places.\n",
        "\n",
        "    Parameters:\n",
        "    value (float): The value to be rounded.\n",
        "\n",
        "    Returns:\n",
        "    float: The value rounded to two decimal places.\n",
        "    \"\"\"\n",
        "    return round(value, 2)"
      ],
      "metadata": {
        "id": "jIq_ih78dyZw"
      },
      "execution_count": null,
      "outputs": []
    },
    {
      "cell_type": "code",
      "source": [
        "# List of columns to round to two decimal places\n",
        "columns_to_round = [\n",
        "    'Total_EMI_per_month', 'Annual_Income', 'Monthly_Balance', 'Outstanding_Debt',\n",
        "    'Credit_Utilization_Ratio', 'Monthly_Inhand_Salary', 'Delay_from_due_date',\n",
        "    'Num_of_Delayed_Payment', 'Num_Credit_Inquiries', 'Changed_Credit_Limit',\n",
        "    'Num_of_Loan', 'Num_Credit_Card'\n",
        "]"
      ],
      "metadata": {
        "id": "ay9-qDIddzTm"
      },
      "execution_count": null,
      "outputs": []
    },
    {
      "cell_type": "code",
      "source": [
        "for column in columns_to_round:\n",
        "    df[column] = df[column].apply(round_to_two_decimals)"
      ],
      "metadata": {
        "id": "jCYn_t6Vd7m4"
      },
      "execution_count": null,
      "outputs": []
    },
    {
      "cell_type": "markdown",
      "source": [
        "# **KNN Algorithm**"
      ],
      "metadata": {
        "id": "rBu-0vsPTl7A"
      }
    },
    {
      "cell_type": "code",
      "source": [
        "def get_numerical_df(df):\n",
        "    \"\"\"\n",
        "    Extract only the numerical columns from a DataFrame.\n",
        "\n",
        "    Parameters:\n",
        "    df (DataFrame): The input DataFrame.\n",
        "\n",
        "    Returns:\n",
        "    DataFrame: A DataFrame containing only the numerical columns.\n",
        "    \"\"\"\n",
        "    # Select only the numerical columns\n",
        "    numerical_df = df.select_dtypes(include=['number'])\n",
        "\n",
        "    return numerical_df"
      ],
      "metadata": {
        "id": "LWBbmYJoacg8"
      },
      "execution_count": null,
      "outputs": []
    },
    {
      "cell_type": "code",
      "source": [
        "numerical_df = get_numerical_df(df) #getting only numerical columns"
      ],
      "metadata": {
        "id": "GyXnJx7IagWj"
      },
      "execution_count": null,
      "outputs": []
    },
    {
      "cell_type": "code",
      "source": [
        "numerical_df.columns"
      ],
      "metadata": {
        "colab": {
          "base_uri": "https://localhost:8080/"
        },
        "id": "i9tbnhQHSuKM",
        "outputId": "27d61e02-db2b-49e1-cdb8-1f85dc19dccc"
      },
      "execution_count": null,
      "outputs": [
        {
          "output_type": "execute_result",
          "data": {
            "text/plain": [
              "Index(['Age', 'Annual_Income', 'Monthly_Inhand_Salary', 'Num_Bank_Accounts',\n",
              "       'Num_Credit_Card', 'Interest_Rate', 'Num_of_Loan',\n",
              "       'Delay_from_due_date', 'Num_of_Delayed_Payment', 'Changed_Credit_Limit',\n",
              "       'Num_Credit_Inquiries', 'Credit_Mix', 'Outstanding_Debt',\n",
              "       'Credit_Utilization_Ratio', 'Payment_of_Min_Amount',\n",
              "       'Total_EMI_per_month', 'Payment_Behaviour', 'Monthly_Balance',\n",
              "       'Total_Months'],\n",
              "      dtype='object')"
            ]
          },
          "metadata": {},
          "execution_count": 78
        }
      ]
    },
    {
      "cell_type": "code",
      "source": [
        "from sklearn.impute import KNNImputer\n",
        "\n",
        "def knn_impute_specific_column(df, column_name, n_neighbors=5):\n",
        "    \"\"\"\n",
        "    Fill missing values in a specific column using KNN imputation based on all numerical columns,\n",
        "    ensuring that the imputed values for a categorical column only include the original categorical values.\n",
        "\n",
        "    Parameters:\n",
        "    df (DataFrame): The input DataFrame.\n",
        "    column_name (str): The name of the column to be imputed.\n",
        "    n_neighbors (int): Number of neighbors to consider for imputation. Default is 5.\n",
        "\n",
        "    Returns:\n",
        "    DataFrame: The DataFrame with the specified column imputed.\n",
        "    \"\"\"\n",
        "\n",
        "    # Store original non-missing values\n",
        "    original_values = df[column_name].copy()\n",
        "\n",
        "    # Create an instance of the KNNImputer class\n",
        "    imputer = KNNImputer(n_neighbors=n_neighbors)\n",
        "\n",
        "    # Fit and transform the imputer to fill missing values in the numerical columns\n",
        "    numerical_df_imputed = imputer.fit_transform(numerical_df)\n",
        "\n",
        "    # Convert the result back to a DataFrame\n",
        "    numerical_df_imputed = pd.DataFrame(numerical_df_imputed, columns=numerical_df.columns)\n",
        "\n",
        "    # Get the imputed column values\n",
        "    imputed_column = numerical_df_imputed[column_name]\n",
        "\n",
        "    # Round the imputed values to the nearest valid category (1, 2, or 3)\n",
        "    imputed_column_rounded = imputed_column.round().clip(1, 3)\n",
        "\n",
        "    # Only update missing values in the original DataFrame\n",
        "    df[column_name] = original_values.combine_first(imputed_column_rounded)\n",
        "\n",
        "    return df"
      ],
      "metadata": {
        "id": "AMU9_Ztcalra"
      },
      "execution_count": null,
      "outputs": []
    },
    {
      "cell_type": "code",
      "source": [
        "imputed_df = knn_impute_specific_column(df, 'Monthly_Balance', n_neighbors=10)"
      ],
      "metadata": {
        "id": "REvGHeqIDW5Q"
      },
      "execution_count": null,
      "outputs": []
    },
    {
      "cell_type": "code",
      "source": [
        "imputed_df = knn_impute_specific_column(df, 'Credit_Mix', n_neighbors=10)"
      ],
      "metadata": {
        "id": "InaaUHkbnTH6"
      },
      "execution_count": null,
      "outputs": []
    },
    {
      "cell_type": "code",
      "source": [
        "df.isna().sum()"
      ],
      "metadata": {
        "colab": {
          "base_uri": "https://localhost:8080/",
          "height": 743
        },
        "id": "FEiFPFASF_17",
        "outputId": "9a774707-e470-4dc1-bdb3-c3ffaeedff4f"
      },
      "execution_count": null,
      "outputs": [
        {
          "output_type": "execute_result",
          "data": {
            "text/plain": [
              "Customer_ID                    0\n",
              "Age                            0\n",
              "Occupation                    78\n",
              "Annual_Income                  0\n",
              "Monthly_Inhand_Salary        237\n",
              "Num_Bank_Accounts              0\n",
              "Num_Credit_Card                0\n",
              "Interest_Rate                  0\n",
              "Num_of_Loan                    0\n",
              "Delay_from_due_date            0\n",
              "Num_of_Delayed_Payment         0\n",
              "Changed_Credit_Limit           0\n",
              "Num_Credit_Inquiries           7\n",
              "Credit_Mix                  1857\n",
              "Outstanding_Debt               0\n",
              "Credit_Utilization_Ratio       0\n",
              "Payment_of_Min_Amount          0\n",
              "Total_EMI_per_month            0\n",
              "Payment_Behaviour              0\n",
              "Monthly_Balance               94\n",
              "Total_Months                   0\n",
              "dtype: int64"
            ],
            "text/html": [
              "<div>\n",
              "<style scoped>\n",
              "    .dataframe tbody tr th:only-of-type {\n",
              "        vertical-align: middle;\n",
              "    }\n",
              "\n",
              "    .dataframe tbody tr th {\n",
              "        vertical-align: top;\n",
              "    }\n",
              "\n",
              "    .dataframe thead th {\n",
              "        text-align: right;\n",
              "    }\n",
              "</style>\n",
              "<table border=\"1\" class=\"dataframe\">\n",
              "  <thead>\n",
              "    <tr style=\"text-align: right;\">\n",
              "      <th></th>\n",
              "      <th>0</th>\n",
              "    </tr>\n",
              "  </thead>\n",
              "  <tbody>\n",
              "    <tr>\n",
              "      <th>Customer_ID</th>\n",
              "      <td>0</td>\n",
              "    </tr>\n",
              "    <tr>\n",
              "      <th>Age</th>\n",
              "      <td>0</td>\n",
              "    </tr>\n",
              "    <tr>\n",
              "      <th>Occupation</th>\n",
              "      <td>78</td>\n",
              "    </tr>\n",
              "    <tr>\n",
              "      <th>Annual_Income</th>\n",
              "      <td>0</td>\n",
              "    </tr>\n",
              "    <tr>\n",
              "      <th>Monthly_Inhand_Salary</th>\n",
              "      <td>237</td>\n",
              "    </tr>\n",
              "    <tr>\n",
              "      <th>Num_Bank_Accounts</th>\n",
              "      <td>0</td>\n",
              "    </tr>\n",
              "    <tr>\n",
              "      <th>Num_Credit_Card</th>\n",
              "      <td>0</td>\n",
              "    </tr>\n",
              "    <tr>\n",
              "      <th>Interest_Rate</th>\n",
              "      <td>0</td>\n",
              "    </tr>\n",
              "    <tr>\n",
              "      <th>Num_of_Loan</th>\n",
              "      <td>0</td>\n",
              "    </tr>\n",
              "    <tr>\n",
              "      <th>Delay_from_due_date</th>\n",
              "      <td>0</td>\n",
              "    </tr>\n",
              "    <tr>\n",
              "      <th>Num_of_Delayed_Payment</th>\n",
              "      <td>0</td>\n",
              "    </tr>\n",
              "    <tr>\n",
              "      <th>Changed_Credit_Limit</th>\n",
              "      <td>0</td>\n",
              "    </tr>\n",
              "    <tr>\n",
              "      <th>Num_Credit_Inquiries</th>\n",
              "      <td>7</td>\n",
              "    </tr>\n",
              "    <tr>\n",
              "      <th>Credit_Mix</th>\n",
              "      <td>1857</td>\n",
              "    </tr>\n",
              "    <tr>\n",
              "      <th>Outstanding_Debt</th>\n",
              "      <td>0</td>\n",
              "    </tr>\n",
              "    <tr>\n",
              "      <th>Credit_Utilization_Ratio</th>\n",
              "      <td>0</td>\n",
              "    </tr>\n",
              "    <tr>\n",
              "      <th>Payment_of_Min_Amount</th>\n",
              "      <td>0</td>\n",
              "    </tr>\n",
              "    <tr>\n",
              "      <th>Total_EMI_per_month</th>\n",
              "      <td>0</td>\n",
              "    </tr>\n",
              "    <tr>\n",
              "      <th>Payment_Behaviour</th>\n",
              "      <td>0</td>\n",
              "    </tr>\n",
              "    <tr>\n",
              "      <th>Monthly_Balance</th>\n",
              "      <td>94</td>\n",
              "    </tr>\n",
              "    <tr>\n",
              "      <th>Total_Months</th>\n",
              "      <td>0</td>\n",
              "    </tr>\n",
              "  </tbody>\n",
              "</table>\n",
              "</div><br><label><b>dtype:</b> int64</label>"
            ]
          },
          "metadata": {},
          "execution_count": 82
        }
      ]
    },
    {
      "cell_type": "code",
      "source": [
        "df.dropna(subset=[\"Credit_Mix\"], inplace=True) #dropping missing values\n",
        "df.dropna(subset=[\"Num_Credit_Inquiries\"], inplace=True) #dropping missing values"
      ],
      "metadata": {
        "id": "xTf33ucCHDrH"
      },
      "execution_count": null,
      "outputs": []
    },
    {
      "cell_type": "code",
      "source": [
        "df.isna().sum()"
      ],
      "metadata": {
        "colab": {
          "base_uri": "https://localhost:8080/",
          "height": 743
        },
        "id": "ZpjpMzJplRlq",
        "outputId": "53811a78-ce61-4b84-ee56-64970aa9dca2"
      },
      "execution_count": null,
      "outputs": [
        {
          "output_type": "execute_result",
          "data": {
            "text/plain": [
              "Customer_ID                   0\n",
              "Age                           0\n",
              "Occupation                   76\n",
              "Annual_Income                 0\n",
              "Monthly_Inhand_Salary       228\n",
              "Num_Bank_Accounts             0\n",
              "Num_Credit_Card               0\n",
              "Interest_Rate                 0\n",
              "Num_of_Loan                   0\n",
              "Delay_from_due_date           0\n",
              "Num_of_Delayed_Payment        0\n",
              "Changed_Credit_Limit          0\n",
              "Num_Credit_Inquiries          0\n",
              "Credit_Mix                    0\n",
              "Outstanding_Debt              0\n",
              "Credit_Utilization_Ratio      0\n",
              "Payment_of_Min_Amount         0\n",
              "Total_EMI_per_month           0\n",
              "Payment_Behaviour             0\n",
              "Monthly_Balance              69\n",
              "Total_Months                  0\n",
              "dtype: int64"
            ],
            "text/html": [
              "<div>\n",
              "<style scoped>\n",
              "    .dataframe tbody tr th:only-of-type {\n",
              "        vertical-align: middle;\n",
              "    }\n",
              "\n",
              "    .dataframe tbody tr th {\n",
              "        vertical-align: top;\n",
              "    }\n",
              "\n",
              "    .dataframe thead th {\n",
              "        text-align: right;\n",
              "    }\n",
              "</style>\n",
              "<table border=\"1\" class=\"dataframe\">\n",
              "  <thead>\n",
              "    <tr style=\"text-align: right;\">\n",
              "      <th></th>\n",
              "      <th>0</th>\n",
              "    </tr>\n",
              "  </thead>\n",
              "  <tbody>\n",
              "    <tr>\n",
              "      <th>Customer_ID</th>\n",
              "      <td>0</td>\n",
              "    </tr>\n",
              "    <tr>\n",
              "      <th>Age</th>\n",
              "      <td>0</td>\n",
              "    </tr>\n",
              "    <tr>\n",
              "      <th>Occupation</th>\n",
              "      <td>76</td>\n",
              "    </tr>\n",
              "    <tr>\n",
              "      <th>Annual_Income</th>\n",
              "      <td>0</td>\n",
              "    </tr>\n",
              "    <tr>\n",
              "      <th>Monthly_Inhand_Salary</th>\n",
              "      <td>228</td>\n",
              "    </tr>\n",
              "    <tr>\n",
              "      <th>Num_Bank_Accounts</th>\n",
              "      <td>0</td>\n",
              "    </tr>\n",
              "    <tr>\n",
              "      <th>Num_Credit_Card</th>\n",
              "      <td>0</td>\n",
              "    </tr>\n",
              "    <tr>\n",
              "      <th>Interest_Rate</th>\n",
              "      <td>0</td>\n",
              "    </tr>\n",
              "    <tr>\n",
              "      <th>Num_of_Loan</th>\n",
              "      <td>0</td>\n",
              "    </tr>\n",
              "    <tr>\n",
              "      <th>Delay_from_due_date</th>\n",
              "      <td>0</td>\n",
              "    </tr>\n",
              "    <tr>\n",
              "      <th>Num_of_Delayed_Payment</th>\n",
              "      <td>0</td>\n",
              "    </tr>\n",
              "    <tr>\n",
              "      <th>Changed_Credit_Limit</th>\n",
              "      <td>0</td>\n",
              "    </tr>\n",
              "    <tr>\n",
              "      <th>Num_Credit_Inquiries</th>\n",
              "      <td>0</td>\n",
              "    </tr>\n",
              "    <tr>\n",
              "      <th>Credit_Mix</th>\n",
              "      <td>0</td>\n",
              "    </tr>\n",
              "    <tr>\n",
              "      <th>Outstanding_Debt</th>\n",
              "      <td>0</td>\n",
              "    </tr>\n",
              "    <tr>\n",
              "      <th>Credit_Utilization_Ratio</th>\n",
              "      <td>0</td>\n",
              "    </tr>\n",
              "    <tr>\n",
              "      <th>Payment_of_Min_Amount</th>\n",
              "      <td>0</td>\n",
              "    </tr>\n",
              "    <tr>\n",
              "      <th>Total_EMI_per_month</th>\n",
              "      <td>0</td>\n",
              "    </tr>\n",
              "    <tr>\n",
              "      <th>Payment_Behaviour</th>\n",
              "      <td>0</td>\n",
              "    </tr>\n",
              "    <tr>\n",
              "      <th>Monthly_Balance</th>\n",
              "      <td>69</td>\n",
              "    </tr>\n",
              "    <tr>\n",
              "      <th>Total_Months</th>\n",
              "      <td>0</td>\n",
              "    </tr>\n",
              "  </tbody>\n",
              "</table>\n",
              "</div><br><label><b>dtype:</b> int64</label>"
            ]
          },
          "metadata": {},
          "execution_count": 84
        }
      ]
    },
    {
      "cell_type": "code",
      "source": [
        "df.dropna(subset=[\"Credit_Mix\"], inplace=True) #dropping missing values"
      ],
      "metadata": {
        "id": "byDF0cHsR-hz"
      },
      "execution_count": null,
      "outputs": []
    },
    {
      "cell_type": "markdown",
      "source": [
        "Annual Income"
      ],
      "metadata": {
        "id": "6vzgb0lw1dG8"
      }
    },
    {
      "cell_type": "markdown",
      "source": [
        "### Classification Analysis with decision tree"
      ],
      "metadata": {
        "id": "g9n9ilKElHUf"
      }
    },
    {
      "cell_type": "code",
      "source": [
        "df.to_csv('test_df.csv', index=False)"
      ],
      "metadata": {
        "id": "NYJ_knkAlQFe"
      },
      "execution_count": null,
      "outputs": []
    },
    {
      "cell_type": "markdown",
      "source": [
        "##Now let's calculate the FICO credit score giving each variable it's weigh"
      ],
      "metadata": {
        "id": "9YgewVQyzDDX"
      }
    },
    {
      "cell_type": "markdown",
      "source": [
        "# For variables like Number of Delayed Payment and Delay from due date, higher values indicate worse behavior, which should negatively impact the credit score. To properly incorporate these variables into the scoring system, I will adjust their contributions such that higher values reduce the overall score."
      ],
      "metadata": {
        "id": "V6T7IFsyGe1B"
      }
    }
  ]
}